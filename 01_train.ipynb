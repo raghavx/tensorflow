{
  "nbformat": 4,
  "nbformat_minor": 0,
  "metadata": {
    "colab": {
      "provenance": [],
      "authorship_tag": "ABX9TyN5fmnBLD20cVT0nV/Bs+Ye",
      "include_colab_link": true
    },
    "kernelspec": {
      "name": "python3",
      "display_name": "Python 3"
    },
    "language_info": {
      "name": "python"
    }
  },
  "cells": [
    {
      "cell_type": "markdown",
      "metadata": {
        "id": "view-in-github",
        "colab_type": "text"
      },
      "source": [
        "<a href=\"https://colab.research.google.com/github/raghavx/tensorflow/blob/main/01_train.ipynb\" target=\"_parent\"><img src=\"https://colab.research.google.com/assets/colab-badge.svg\" alt=\"Open In Colab\"/></a>"
      ]
    },
    {
      "cell_type": "code",
      "execution_count": 1,
      "metadata": {
        "colab": {
          "base_uri": "https://localhost:8080/"
        },
        "id": "SZszG9MOWWiz",
        "outputId": "a2df98b5-8761-44ee-e123-5bf1e4b0800f"
      },
      "outputs": [
        {
          "output_type": "stream",
          "name": "stdout",
          "text": [
            "2.9.2\n"
          ]
        }
      ],
      "source": [
        "import tensorflow as tf\n",
        "print(tf.__version__)"
      ]
    },
    {
      "cell_type": "code",
      "source": [],
      "metadata": {
        "id": "roNgWBmwYZ78"
      },
      "execution_count": 1,
      "outputs": []
    },
    {
      "cell_type": "code",
      "source": [
        "X = tf.constant([1.0,2.0,3.0,4.0,5.0,6.0,2.0,3.0,4.0,5.0,6.0])\n",
        "y = tf.constant([11.0,12.0,13.0,14.0,15.0,16.0,12.0,13.0,14.0,15.0,16.0])\n",
        "X,y"
      ],
      "metadata": {
        "colab": {
          "base_uri": "https://localhost:8080/"
        },
        "id": "08YSGiZMWgrp",
        "outputId": "aab426c0-d075-4acb-ad4c-657f28c5d44a"
      },
      "execution_count": 2,
      "outputs": [
        {
          "output_type": "execute_result",
          "data": {
            "text/plain": [
              "(<tf.Tensor: shape=(11,), dtype=float32, numpy=array([1., 2., 3., 4., 5., 6., 2., 3., 4., 5., 6.], dtype=float32)>,\n",
              " <tf.Tensor: shape=(11,), dtype=float32, numpy=\n",
              " array([11., 12., 13., 14., 15., 16., 12., 13., 14., 15., 16.],\n",
              "       dtype=float32)>)"
            ]
          },
          "metadata": {},
          "execution_count": 2
        }
      ]
    },
    {
      "cell_type": "code",
      "source": [
        "model = tf.keras.Sequential()\n",
        "model.add(tf.keras.layers.Dense(50, activation=None))\n",
        "model.add(tf.keras.layers.Dense(1, activation=None))\n",
        "model.compile(loss=\"mae\" ,optimizer=tf.keras.optimizers.Adam(learning_rate=0.01), metrics=[\"mae\"])\n",
        "model.fit(x=tf.expand_dims(X, axis=-1),y=y,epochs=100)\n",
        "\n"
      ],
      "metadata": {
        "colab": {
          "base_uri": "https://localhost:8080/"
        },
        "id": "lk3FX0PbYa-W",
        "outputId": "5aaff30a-a600-4908-a6c7-653dbd975125"
      },
      "execution_count": 3,
      "outputs": [
        {
          "output_type": "stream",
          "name": "stdout",
          "text": [
            "Epoch 1/100\n",
            "1/1 [==============================] - 1s 1s/step - loss: 14.9727 - mae: 14.9727\n",
            "Epoch 2/100\n",
            "1/1 [==============================] - 0s 12ms/step - loss: 14.2917 - mae: 14.2917\n",
            "Epoch 3/100\n",
            "1/1 [==============================] - 0s 11ms/step - loss: 13.6279 - mae: 13.6279\n",
            "Epoch 4/100\n",
            "1/1 [==============================] - 0s 10ms/step - loss: 12.9790 - mae: 12.9790\n",
            "Epoch 5/100\n",
            "1/1 [==============================] - 0s 9ms/step - loss: 12.3415 - mae: 12.3415\n",
            "Epoch 6/100\n",
            "1/1 [==============================] - 0s 12ms/step - loss: 11.7124 - mae: 11.7124\n",
            "Epoch 7/100\n",
            "1/1 [==============================] - 0s 11ms/step - loss: 11.0884 - mae: 11.0884\n",
            "Epoch 8/100\n",
            "1/1 [==============================] - 0s 10ms/step - loss: 10.4654 - mae: 10.4654\n",
            "Epoch 9/100\n",
            "1/1 [==============================] - 0s 13ms/step - loss: 9.8384 - mae: 9.8384\n",
            "Epoch 10/100\n",
            "1/1 [==============================] - 0s 16ms/step - loss: 9.2024 - mae: 9.2024\n",
            "Epoch 11/100\n",
            "1/1 [==============================] - 0s 10ms/step - loss: 8.5524 - mae: 8.5524\n",
            "Epoch 12/100\n",
            "1/1 [==============================] - 0s 10ms/step - loss: 7.8839 - mae: 7.8839\n",
            "Epoch 13/100\n",
            "1/1 [==============================] - 0s 11ms/step - loss: 7.1924 - mae: 7.1924\n",
            "Epoch 14/100\n",
            "1/1 [==============================] - 0s 8ms/step - loss: 6.4738 - mae: 6.4738\n",
            "Epoch 15/100\n",
            "1/1 [==============================] - 0s 14ms/step - loss: 5.7242 - mae: 5.7242\n",
            "Epoch 16/100\n",
            "1/1 [==============================] - 0s 11ms/step - loss: 4.9399 - mae: 4.9399\n",
            "Epoch 17/100\n",
            "1/1 [==============================] - 0s 15ms/step - loss: 4.1174 - mae: 4.1174\n",
            "Epoch 18/100\n",
            "1/1 [==============================] - 0s 19ms/step - loss: 3.2533 - mae: 3.2533\n",
            "Epoch 19/100\n",
            "1/1 [==============================] - 0s 25ms/step - loss: 2.7748 - mae: 2.7748\n",
            "Epoch 20/100\n",
            "1/1 [==============================] - 0s 11ms/step - loss: 2.6504 - mae: 2.6504\n",
            "Epoch 21/100\n",
            "1/1 [==============================] - 0s 13ms/step - loss: 2.6572 - mae: 2.6572\n",
            "Epoch 22/100\n",
            "1/1 [==============================] - 0s 9ms/step - loss: 2.9567 - mae: 2.9567\n",
            "Epoch 23/100\n",
            "1/1 [==============================] - 0s 18ms/step - loss: 3.2136 - mae: 3.2136\n",
            "Epoch 24/100\n",
            "1/1 [==============================] - 0s 14ms/step - loss: 3.4152 - mae: 3.4152\n",
            "Epoch 25/100\n",
            "1/1 [==============================] - 0s 13ms/step - loss: 3.5852 - mae: 3.5852\n",
            "Epoch 26/100\n",
            "1/1 [==============================] - 0s 11ms/step - loss: 3.7255 - mae: 3.7255\n",
            "Epoch 27/100\n",
            "1/1 [==============================] - 0s 8ms/step - loss: 3.7489 - mae: 3.7489\n",
            "Epoch 28/100\n",
            "1/1 [==============================] - 0s 17ms/step - loss: 3.6718 - mae: 3.6718\n",
            "Epoch 29/100\n",
            "1/1 [==============================] - 0s 18ms/step - loss: 3.5097 - mae: 3.5097\n",
            "Epoch 30/100\n",
            "1/1 [==============================] - 0s 17ms/step - loss: 3.3652 - mae: 3.3652\n",
            "Epoch 31/100\n",
            "1/1 [==============================] - 0s 14ms/step - loss: 3.2154 - mae: 3.2154\n",
            "Epoch 32/100\n",
            "1/1 [==============================] - 0s 11ms/step - loss: 3.0540 - mae: 3.0540\n",
            "Epoch 33/100\n",
            "1/1 [==============================] - 0s 14ms/step - loss: 2.8832 - mae: 2.8832\n",
            "Epoch 34/100\n",
            "1/1 [==============================] - 0s 16ms/step - loss: 2.7051 - mae: 2.7051\n",
            "Epoch 35/100\n",
            "1/1 [==============================] - 0s 11ms/step - loss: 2.5479 - mae: 2.5479\n",
            "Epoch 36/100\n",
            "1/1 [==============================] - 0s 12ms/step - loss: 2.5353 - mae: 2.5353\n",
            "Epoch 37/100\n",
            "1/1 [==============================] - 0s 13ms/step - loss: 2.5224 - mae: 2.5224\n",
            "Epoch 38/100\n",
            "1/1 [==============================] - 0s 15ms/step - loss: 2.5091 - mae: 2.5091\n",
            "Epoch 39/100\n",
            "1/1 [==============================] - 0s 8ms/step - loss: 2.4955 - mae: 2.4955\n",
            "Epoch 40/100\n",
            "1/1 [==============================] - 0s 27ms/step - loss: 2.5909 - mae: 2.5909\n",
            "Epoch 41/100\n",
            "1/1 [==============================] - 0s 8ms/step - loss: 2.6526 - mae: 2.6526\n",
            "Epoch 42/100\n",
            "1/1 [==============================] - 0s 16ms/step - loss: 2.6750 - mae: 2.6750\n",
            "Epoch 43/100\n",
            "1/1 [==============================] - 0s 11ms/step - loss: 2.6625 - mae: 2.6625\n",
            "Epoch 44/100\n",
            "1/1 [==============================] - 0s 10ms/step - loss: 2.6183 - mae: 2.6183\n",
            "Epoch 45/100\n",
            "1/1 [==============================] - 0s 17ms/step - loss: 2.5451 - mae: 2.5451\n",
            "Epoch 46/100\n",
            "1/1 [==============================] - 0s 12ms/step - loss: 2.4451 - mae: 2.4451\n",
            "Epoch 47/100\n",
            "1/1 [==============================] - 0s 16ms/step - loss: 2.3722 - mae: 2.3722\n",
            "Epoch 48/100\n",
            "1/1 [==============================] - 0s 12ms/step - loss: 2.3544 - mae: 2.3544\n",
            "Epoch 49/100\n",
            "1/1 [==============================] - 0s 17ms/step - loss: 2.3361 - mae: 2.3361\n",
            "Epoch 50/100\n",
            "1/1 [==============================] - 0s 10ms/step - loss: 2.3173 - mae: 2.3173\n",
            "Epoch 51/100\n",
            "1/1 [==============================] - 0s 12ms/step - loss: 2.2980 - mae: 2.2980\n",
            "Epoch 52/100\n",
            "1/1 [==============================] - 0s 14ms/step - loss: 2.2782 - mae: 2.2782\n",
            "Epoch 53/100\n",
            "1/1 [==============================] - 0s 14ms/step - loss: 2.2579 - mae: 2.2579\n",
            "Epoch 54/100\n",
            "1/1 [==============================] - 0s 8ms/step - loss: 2.2394 - mae: 2.2394\n",
            "Epoch 55/100\n",
            "1/1 [==============================] - 0s 9ms/step - loss: 2.2428 - mae: 2.2428\n",
            "Epoch 56/100\n",
            "1/1 [==============================] - 0s 12ms/step - loss: 2.2187 - mae: 2.2187\n",
            "Epoch 57/100\n",
            "1/1 [==============================] - 0s 9ms/step - loss: 2.1787 - mae: 2.1787\n",
            "Epoch 58/100\n",
            "1/1 [==============================] - 0s 9ms/step - loss: 2.1594 - mae: 2.1594\n",
            "Epoch 59/100\n",
            "1/1 [==============================] - 0s 9ms/step - loss: 2.1396 - mae: 2.1396\n",
            "Epoch 60/100\n",
            "1/1 [==============================] - 0s 13ms/step - loss: 2.1194 - mae: 2.1194\n",
            "Epoch 61/100\n",
            "1/1 [==============================] - 0s 11ms/step - loss: 2.0986 - mae: 2.0986\n",
            "Epoch 62/100\n",
            "1/1 [==============================] - 0s 8ms/step - loss: 2.0774 - mae: 2.0774\n",
            "Epoch 63/100\n",
            "1/1 [==============================] - 0s 16ms/step - loss: 2.0557 - mae: 2.0557\n",
            "Epoch 64/100\n",
            "1/1 [==============================] - 0s 8ms/step - loss: 2.0335 - mae: 2.0335\n",
            "Epoch 65/100\n",
            "1/1 [==============================] - 0s 9ms/step - loss: 2.0108 - mae: 2.0108\n",
            "Epoch 66/100\n",
            "1/1 [==============================] - 0s 12ms/step - loss: 1.9875 - mae: 1.9875\n",
            "Epoch 67/100\n",
            "1/1 [==============================] - 0s 6ms/step - loss: 1.9638 - mae: 1.9638\n",
            "Epoch 68/100\n",
            "1/1 [==============================] - 0s 8ms/step - loss: 1.9394 - mae: 1.9394\n",
            "Epoch 69/100\n",
            "1/1 [==============================] - 0s 9ms/step - loss: 1.9146 - mae: 1.9146\n",
            "Epoch 70/100\n",
            "1/1 [==============================] - 0s 9ms/step - loss: 1.8891 - mae: 1.8891\n",
            "Epoch 71/100\n",
            "1/1 [==============================] - 0s 9ms/step - loss: 1.8631 - mae: 1.8631\n",
            "Epoch 72/100\n",
            "1/1 [==============================] - 0s 10ms/step - loss: 1.8364 - mae: 1.8364\n",
            "Epoch 73/100\n",
            "1/1 [==============================] - 0s 10ms/step - loss: 1.8091 - mae: 1.8091\n",
            "Epoch 74/100\n",
            "1/1 [==============================] - 0s 12ms/step - loss: 1.7811 - mae: 1.7811\n",
            "Epoch 75/100\n",
            "1/1 [==============================] - 0s 12ms/step - loss: 1.7524 - mae: 1.7524\n",
            "Epoch 76/100\n",
            "1/1 [==============================] - 0s 11ms/step - loss: 1.7230 - mae: 1.7230\n",
            "Epoch 77/100\n",
            "1/1 [==============================] - 0s 13ms/step - loss: 1.6929 - mae: 1.6929\n",
            "Epoch 78/100\n",
            "1/1 [==============================] - 0s 14ms/step - loss: 1.6619 - mae: 1.6619\n",
            "Epoch 79/100\n",
            "1/1 [==============================] - 0s 16ms/step - loss: 1.6301 - mae: 1.6301\n",
            "Epoch 80/100\n",
            "1/1 [==============================] - 0s 19ms/step - loss: 1.5975 - mae: 1.5975\n",
            "Epoch 81/100\n",
            "1/1 [==============================] - 0s 20ms/step - loss: 1.5639 - mae: 1.5639\n",
            "Epoch 82/100\n",
            "1/1 [==============================] - 0s 9ms/step - loss: 1.5469 - mae: 1.5469\n",
            "Epoch 83/100\n",
            "1/1 [==============================] - 0s 9ms/step - loss: 1.4998 - mae: 1.4998\n",
            "Epoch 84/100\n",
            "1/1 [==============================] - 0s 10ms/step - loss: 1.4665 - mae: 1.4665\n",
            "Epoch 85/100\n",
            "1/1 [==============================] - 0s 16ms/step - loss: 1.4347 - mae: 1.4347\n",
            "Epoch 86/100\n",
            "1/1 [==============================] - 0s 7ms/step - loss: 1.4016 - mae: 1.4016\n",
            "Epoch 87/100\n",
            "1/1 [==============================] - 0s 15ms/step - loss: 1.3671 - mae: 1.3671\n",
            "Epoch 88/100\n",
            "1/1 [==============================] - 0s 19ms/step - loss: 1.3313 - mae: 1.3313\n",
            "Epoch 89/100\n",
            "1/1 [==============================] - 0s 14ms/step - loss: 1.2940 - mae: 1.2940\n",
            "Epoch 90/100\n",
            "1/1 [==============================] - 0s 14ms/step - loss: 1.2553 - mae: 1.2553\n",
            "Epoch 91/100\n",
            "1/1 [==============================] - 0s 21ms/step - loss: 1.2150 - mae: 1.2150\n",
            "Epoch 92/100\n",
            "1/1 [==============================] - 0s 10ms/step - loss: 1.1733 - mae: 1.1733\n",
            "Epoch 93/100\n",
            "1/1 [==============================] - 0s 14ms/step - loss: 1.1300 - mae: 1.1300\n",
            "Epoch 94/100\n",
            "1/1 [==============================] - 0s 8ms/step - loss: 1.0851 - mae: 1.0851\n",
            "Epoch 95/100\n",
            "1/1 [==============================] - 0s 21ms/step - loss: 1.0385 - mae: 1.0385\n",
            "Epoch 96/100\n",
            "1/1 [==============================] - 0s 25ms/step - loss: 0.9901 - mae: 0.9901\n",
            "Epoch 97/100\n",
            "1/1 [==============================] - 0s 55ms/step - loss: 0.9400 - mae: 0.9400\n",
            "Epoch 98/100\n",
            "1/1 [==============================] - 0s 12ms/step - loss: 0.8880 - mae: 0.8880\n",
            "Epoch 99/100\n",
            "1/1 [==============================] - 0s 12ms/step - loss: 0.8341 - mae: 0.8341\n",
            "Epoch 100/100\n",
            "1/1 [==============================] - 0s 12ms/step - loss: 0.7783 - mae: 0.7783\n"
          ]
        },
        {
          "output_type": "execute_result",
          "data": {
            "text/plain": [
              "<keras.callbacks.History at 0x7f7035490fd0>"
            ]
          },
          "metadata": {},
          "execution_count": 3
        }
      ]
    },
    {
      "cell_type": "code",
      "source": [
        "model.predict([8.0])"
      ],
      "metadata": {
        "colab": {
          "base_uri": "https://localhost:8080/"
        },
        "id": "TySv2-kpZbWA",
        "outputId": "8ce49a8e-4501-4afa-8734-2b00a2ec52fb"
      },
      "execution_count": 4,
      "outputs": [
        {
          "output_type": "stream",
          "name": "stdout",
          "text": [
            "1/1 [==============================] - 0s 161ms/step\n"
          ]
        },
        {
          "output_type": "execute_result",
          "data": {
            "text/plain": [
              "array([[19.621866]], dtype=float32)"
            ]
          },
          "metadata": {},
          "execution_count": 4
        }
      ]
    },
    {
      "cell_type": "code",
      "source": [
        "X = tf.range(-200, 200, 4)\n",
        "y = X + 10"
      ],
      "metadata": {
        "id": "AlzHfgQibBbv"
      },
      "execution_count": 5,
      "outputs": []
    },
    {
      "cell_type": "code",
      "source": [
        "import matplotlib.pyplot as plt\n",
        "plt.scatter(X,y)"
      ],
      "metadata": {
        "colab": {
          "base_uri": "https://localhost:8080/",
          "height": 282
        },
        "id": "hrasDneVhcHo",
        "outputId": "99b3ae2c-9fbc-4aed-b0f0-605cac1b5644"
      },
      "execution_count": 6,
      "outputs": [
        {
          "output_type": "execute_result",
          "data": {
            "text/plain": [
              "<matplotlib.collections.PathCollection at 0x7f7033aaa2e0>"
            ]
          },
          "metadata": {},
          "execution_count": 6
        },
        {
          "output_type": "display_data",
          "data": {
            "text/plain": [
              "<Figure size 432x288 with 1 Axes>"
            ],
            "image/png": "[encoded data removed]"
          },
          "metadata": {
            "needs_background": "light"
          }
        }
      ]
    },
    {
      "cell_type": "code",
      "source": [
        "len(X)"
      ],
      "metadata": {
        "colab": {
          "base_uri": "https://localhost:8080/"
        },
        "id": "zsJcRoZLhqnU",
        "outputId": "1fa900a9-6a1c-44be-eed5-0a0cf5e5ebd3"
      },
      "execution_count": 7,
      "outputs": [
        {
          "output_type": "execute_result",
          "data": {
            "text/plain": [
              "100"
            ]
          },
          "metadata": {},
          "execution_count": 7
        }
      ]
    },
    {
      "cell_type": "code",
      "source": [
        "X_train=X[:80]\n",
        "X_test=X[80:]\n",
        "y_train=y[:80]\n",
        "y_test=y[80:]"
      ],
      "metadata": {
        "id": "V-Dp92rIidlZ"
      },
      "execution_count": 8,
      "outputs": []
    },
    {
      "cell_type": "code",
      "source": [
        "plt.scatter(X_train,y_train, label=\"Training data\")\n",
        "plt.scatter(X_test,y_test, label= \"Test Data\")\n",
        "plt.legend();"
      ],
      "metadata": {
        "colab": {
          "base_uri": "https://localhost:8080/",
          "height": 265
        },
        "id": "FRo4r2bSikpC",
        "outputId": "7ce727dd-d2cc-47af-cc12-593e696e61a9"
      },
      "execution_count": 9,
      "outputs": [
        {
          "output_type": "display_data",
          "data": {
            "text/plain": [
              "<Figure size 432x288 with 1 Axes>"
            ],
            "image/png": "[encoded data removed]"
          },
          "metadata": {
            "needs_background": "light"
          }
        }
      ]
    },
    {
      "cell_type": "code",
      "source": [
        "from os import name\n",
        "model = tf.keras.models.Sequential()\n",
        "model.add(tf.keras.layers.Dense(64,activation=None), name=\"input_layer\")\n",
        "model.add(tf.keras.layers.Dense(1,activation=None),name=\"output_layer\")\n",
        "model.compile(loss=\"mae\",optimizer=tf.keras.optimizers.Adam(learning_rate=0.01),metrics=[\"mae\"])\n"
      ],
      "metadata": {
        "id": "ObTgRQmijIC6"
      },
      "execution_count": 10,
      "outputs": []
    },
    {
      "cell_type": "code",
      "source": [
        "model.build(input_shape=tf.expand_dims(X_train,axis=-1).shape)\n",
        "model.summary()"
      ],
      "metadata": {
        "colab": {
          "base_uri": "https://localhost:8080/"
        },
        "id": "QL5wj60vozzj",
        "outputId": "c9f74ad9-8d43-4731-d9f2-7526734b3da3"
      },
      "execution_count": 11,
      "outputs": [
        {
          "output_type": "stream",
          "name": "stdout",
          "text": [
            "Model: \"sequential_1\"\n",
            "_________________________________________________________________\n",
            " Layer (type)                Output Shape              Param #   \n",
            "=================================================================\n",
            " dense_2 (Dense)             (80, 64)                  128       \n",
            "                                                                 \n",
            " dense_3 (Dense)             (80, 1)                   65        \n",
            "                                                                 \n",
            "=================================================================\n",
            "Total params: 193\n",
            "Trainable params: 193\n",
            "Non-trainable params: 0\n",
            "_________________________________________________________________\n"
          ]
        }
      ]
    },
    {
      "cell_type": "code",
      "source": [
        "model.fit(x=tf.expand_dims(X_train, axis=-1),y=y_train, epochs=100)"
      ],
      "metadata": {
        "id": "zeJY16dMosfI"
      },
      "execution_count": null,
      "outputs": []
    },
    {
      "cell_type": "code",
      "source": [
        "model.predict([100])"
      ],
      "metadata": {
        "colab": {
          "base_uri": "https://localhost:8080/"
        },
        "id": "ISB4rNOglLw9",
        "outputId": "fa039e26-431b-4d1a-ea8e-0d195b4a1404"
      },
      "execution_count": 13,
      "outputs": [
        {
          "output_type": "stream",
          "name": "stdout",
          "text": [
            "1/1 [==============================] - 0s 278ms/step\n"
          ]
        },
        {
          "output_type": "execute_result",
          "data": {
            "text/plain": [
              "array([[110.43742]], dtype=float32)"
            ]
          },
          "metadata": {},
          "execution_count": 13
        }
      ]
    },
    {
      "cell_type": "code",
      "source": [
        "from tensorflow.keras.utils import plot_model\n",
        "plot_model(model=model,show_shapes=True)"
      ],
      "metadata": {
        "id": "bNaBR3omntvI",
        "colab": {
          "base_uri": "https://localhost:8080/",
          "height": 312
        },
        "outputId": "dabee0e6-1bec-4a98-926b-7c6911863f7f"
      },
      "execution_count": 15,
      "outputs": [
        {
          "output_type": "execute_result",
          "data": {
            "image/png": "[encoded data removed]",
            "text/plain": [
              "<IPython.core.display.Image object>"
            ]
          },
          "metadata": {},
          "execution_count": 15
        }
      ]
    },
    {
      "cell_type": "code",
      "source": [],
      "metadata": {
        "id": "_WrwB_4Qr1tL"
      },
      "execution_count": 14,
      "outputs": []
    }
  ]
}
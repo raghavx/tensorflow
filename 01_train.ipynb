{
  "nbformat": 4,
  "nbformat_minor": 0,
  "metadata": {
    "colab": {
      "provenance": [],
      "authorship_tag": "ABX9TyMrF26gSJhaezUWICH709ET",
      "include_colab_link": true
    },
    "kernelspec": {
      "name": "python3",
      "display_name": "Python 3"
    },
    "language_info": {
      "name": "python"
    }
  },
  "cells": [
    {
      "cell_type": "markdown",
      "metadata": {
        "id": "view-in-github",
        "colab_type": "text"
      },
      "source": [
        "<a href=\"https://colab.research.google.com/github/raghavx/tensorflow/blob/main/01_train.ipynb\" target=\"_parent\"><img src=\"https://colab.research.google.com/assets/colab-badge.svg\" alt=\"Open In Colab\"/></a>"
      ]
    },
    {
      "cell_type": "code",
      "execution_count": 65,
      "metadata": {
        "colab": {
          "base_uri": "https://localhost:8080/"
        },
        "id": "SZszG9MOWWiz",
        "outputId": "be785c56-4659-4f93-9c3a-a02f125db118"
      },
      "outputs": [
        {
          "output_type": "stream",
          "name": "stdout",
          "text": [
            "2.9.2\n"
          ]
        }
      ],
      "source": [
        "import tensorflow as tf\n",
        "print(tf.__version__)"
      ]
    },
    {
      "cell_type": "code",
      "source": [],
      "metadata": {
        "id": "roNgWBmwYZ78"
      },
      "execution_count": 65,
      "outputs": []
    },
    {
      "cell_type": "code",
      "source": [
        "X = tf.constant([1.0,2.0,3.0,4.0,5.0,6.0,2.0,3.0,4.0,5.0,6.0])\n",
        "y = tf.constant([11.0,12.0,13.0,14.0,15.0,16.0,12.0,13.0,14.0,15.0,16.0])\n",
        "X,y"
      ],
      "metadata": {
        "colab": {
          "base_uri": "https://localhost:8080/"
        },
        "id": "08YSGiZMWgrp",
        "outputId": "2801b9c9-5f92-4552-f0bc-3c557140e5c8"
      },
      "execution_count": 66,
      "outputs": [
        {
          "output_type": "execute_result",
          "data": {
            "text/plain": [
              "(<tf.Tensor: shape=(11,), dtype=float32, numpy=array([1., 2., 3., 4., 5., 6., 2., 3., 4., 5., 6.], dtype=float32)>,\n",
              " <tf.Tensor: shape=(11,), dtype=float32, numpy=\n",
              " array([11., 12., 13., 14., 15., 16., 12., 13., 14., 15., 16.],\n",
              "       dtype=float32)>)"
            ]
          },
          "metadata": {},
          "execution_count": 66
        }
      ]
    },
    {
      "cell_type": "code",
      "source": [
        "model = tf.keras.Sequential()\n",
        "model.add(tf.keras.layers.Dense(50, activation=None))\n",
        "model.add(tf.keras.layers.Dense(1, activation=None))\n",
        "model.compile(loss=\"mae\" ,optimizer=tf.keras.optimizers.Adam(learning_rate=0.01), metrics=[\"mae\"])\n",
        "model.fit(x=tf.expand_dims(X, axis=-1),y=y,epochs=100)\n",
        "\n"
      ],
      "metadata": {
        "colab": {
          "base_uri": "https://localhost:8080/"
        },
        "id": "lk3FX0PbYa-W",
        "outputId": "7753e55b-1f74-40cf-cfe5-345572f70d8d"
      },
      "execution_count": 67,
      "outputs": [
        {
          "output_type": "stream",
          "name": "stdout",
          "text": [
            "Epoch 1/100\n",
            "1/1 [==============================] - 0s 488ms/step - loss: 14.0682 - mae: 14.0682\n",
            "Epoch 2/100\n",
            "1/1 [==============================] - 0s 10ms/step - loss: 13.3586 - mae: 13.3586\n",
            "Epoch 3/100\n",
            "1/1 [==============================] - 0s 11ms/step - loss: 12.6593 - mae: 12.6593\n",
            "Epoch 4/100\n",
            "1/1 [==============================] - 0s 9ms/step - loss: 11.9667 - mae: 11.9667\n",
            "Epoch 5/100\n",
            "1/1 [==============================] - 0s 8ms/step - loss: 11.2767 - mae: 11.2767\n",
            "Epoch 6/100\n",
            "1/1 [==============================] - 0s 10ms/step - loss: 10.5863 - mae: 10.5863\n",
            "Epoch 7/100\n",
            "1/1 [==============================] - 0s 7ms/step - loss: 9.8928 - mae: 9.8928\n",
            "Epoch 8/100\n",
            "1/1 [==============================] - 0s 7ms/step - loss: 9.1935 - mae: 9.1935\n",
            "Epoch 9/100\n",
            "1/1 [==============================] - 0s 13ms/step - loss: 8.4857 - mae: 8.4857\n",
            "Epoch 10/100\n",
            "1/1 [==============================] - 0s 17ms/step - loss: 7.7663 - mae: 7.7663\n",
            "Epoch 11/100\n",
            "1/1 [==============================] - 0s 9ms/step - loss: 7.0321 - mae: 7.0321\n",
            "Epoch 12/100\n",
            "1/1 [==============================] - 0s 9ms/step - loss: 6.2798 - mae: 6.2798\n",
            "Epoch 13/100\n",
            "1/1 [==============================] - 0s 11ms/step - loss: 5.5060 - mae: 5.5060\n",
            "Epoch 14/100\n",
            "1/1 [==============================] - 0s 7ms/step - loss: 4.7072 - mae: 4.7072\n",
            "Epoch 15/100\n",
            "1/1 [==============================] - 0s 11ms/step - loss: 3.8796 - mae: 3.8796\n",
            "Epoch 16/100\n",
            "1/1 [==============================] - 0s 8ms/step - loss: 3.1227 - mae: 3.1227\n",
            "Epoch 17/100\n",
            "1/1 [==============================] - 0s 11ms/step - loss: 2.7360 - mae: 2.7360\n",
            "Epoch 18/100\n",
            "1/1 [==============================] - 0s 20ms/step - loss: 2.7230 - mae: 2.7230\n",
            "Epoch 19/100\n",
            "1/1 [==============================] - 0s 7ms/step - loss: 2.7484 - mae: 2.7484\n",
            "Epoch 20/100\n",
            "1/1 [==============================] - 0s 8ms/step - loss: 3.0088 - mae: 3.0088\n",
            "Epoch 21/100\n",
            "1/1 [==============================] - 0s 20ms/step - loss: 3.2147 - mae: 3.2147\n",
            "Epoch 22/100\n",
            "1/1 [==============================] - 0s 8ms/step - loss: 3.3691 - mae: 3.3691\n",
            "Epoch 23/100\n",
            "1/1 [==============================] - 0s 8ms/step - loss: 3.4756 - mae: 3.4756\n",
            "Epoch 24/100\n",
            "1/1 [==============================] - 0s 21ms/step - loss: 3.5382 - mae: 3.5382\n",
            "Epoch 25/100\n",
            "1/1 [==============================] - 0s 7ms/step - loss: 3.5609 - mae: 3.5609\n",
            "Epoch 26/100\n",
            "1/1 [==============================] - 0s 7ms/step - loss: 3.5478 - mae: 3.5478\n",
            "Epoch 27/100\n",
            "1/1 [==============================] - 0s 10ms/step - loss: 3.5031 - mae: 3.5031\n",
            "Epoch 28/100\n",
            "1/1 [==============================] - 0s 14ms/step - loss: 3.4304 - mae: 3.4304\n",
            "Epoch 29/100\n",
            "1/1 [==============================] - 0s 7ms/step - loss: 3.3336 - mae: 3.3336\n",
            "Epoch 30/100\n",
            "1/1 [==============================] - 0s 8ms/step - loss: 3.2159 - mae: 3.2159\n",
            "Epoch 31/100\n",
            "1/1 [==============================] - 0s 9ms/step - loss: 3.0806 - mae: 3.0806\n",
            "Epoch 32/100\n",
            "1/1 [==============================] - 0s 8ms/step - loss: 2.9304 - mae: 2.9304\n",
            "Epoch 33/100\n",
            "1/1 [==============================] - 0s 9ms/step - loss: 2.7681 - mae: 2.7681\n",
            "Epoch 34/100\n",
            "1/1 [==============================] - 0s 9ms/step - loss: 2.5960 - mae: 2.5960\n",
            "Epoch 35/100\n",
            "1/1 [==============================] - 0s 12ms/step - loss: 2.5511 - mae: 2.5511\n",
            "Epoch 36/100\n",
            "1/1 [==============================] - 0s 8ms/step - loss: 2.5342 - mae: 2.5342\n",
            "Epoch 37/100\n",
            "1/1 [==============================] - 0s 9ms/step - loss: 2.5171 - mae: 2.5171\n",
            "Epoch 38/100\n",
            "1/1 [==============================] - 0s 11ms/step - loss: 2.4999 - mae: 2.4999\n",
            "Epoch 39/100\n",
            "1/1 [==============================] - 0s 10ms/step - loss: 2.5777 - mae: 2.5777\n",
            "Epoch 40/100\n",
            "1/1 [==============================] - 0s 10ms/step - loss: 2.6415 - mae: 2.6415\n",
            "Epoch 41/100\n",
            "1/1 [==============================] - 0s 11ms/step - loss: 2.6630 - mae: 2.6630\n",
            "Epoch 42/100\n",
            "1/1 [==============================] - 0s 7ms/step - loss: 2.6469 - mae: 2.6469\n",
            "Epoch 43/100\n",
            "1/1 [==============================] - 0s 10ms/step - loss: 2.5969 - mae: 2.5969\n",
            "Epoch 44/100\n",
            "1/1 [==============================] - 0s 8ms/step - loss: 2.5162 - mae: 2.5162\n",
            "Epoch 45/100\n",
            "1/1 [==============================] - 0s 9ms/step - loss: 2.4072 - mae: 2.4072\n",
            "Epoch 46/100\n",
            "1/1 [==============================] - 0s 11ms/step - loss: 2.3551 - mae: 2.3551\n",
            "Epoch 47/100\n",
            "1/1 [==============================] - 0s 14ms/step - loss: 2.3354 - mae: 2.3354\n",
            "Epoch 48/100\n",
            "1/1 [==============================] - 0s 8ms/step - loss: 2.3152 - mae: 2.3152\n",
            "Epoch 49/100\n",
            "1/1 [==============================] - 0s 9ms/step - loss: 2.2946 - mae: 2.2946\n",
            "Epoch 50/100\n",
            "1/1 [==============================] - 0s 11ms/step - loss: 2.2735 - mae: 2.2735\n",
            "Epoch 51/100\n",
            "1/1 [==============================] - 0s 7ms/step - loss: 2.2519 - mae: 2.2519\n",
            "Epoch 52/100\n",
            "1/1 [==============================] - 0s 12ms/step - loss: 2.2354 - mae: 2.2354\n",
            "Epoch 53/100\n",
            "1/1 [==============================] - 0s 10ms/step - loss: 2.2430 - mae: 2.2430\n",
            "Epoch 54/100\n",
            "1/1 [==============================] - 0s 12ms/step - loss: 2.2213 - mae: 2.2213\n",
            "Epoch 55/100\n",
            "1/1 [==============================] - 0s 8ms/step - loss: 2.1732 - mae: 2.1732\n",
            "Epoch 56/100\n",
            "1/1 [==============================] - 0s 8ms/step - loss: 2.1471 - mae: 2.1471\n",
            "Epoch 57/100\n",
            "1/1 [==============================] - 0s 8ms/step - loss: 2.1269 - mae: 2.1269\n",
            "Epoch 58/100\n",
            "1/1 [==============================] - 0s 9ms/step - loss: 2.1063 - mae: 2.1063\n",
            "Epoch 59/100\n",
            "1/1 [==============================] - 0s 9ms/step - loss: 2.0852 - mae: 2.0852\n",
            "Epoch 60/100\n",
            "1/1 [==============================] - 0s 8ms/step - loss: 2.0636 - mae: 2.0636\n",
            "Epoch 61/100\n",
            "1/1 [==============================] - 0s 10ms/step - loss: 2.0417 - mae: 2.0417\n",
            "Epoch 62/100\n",
            "1/1 [==============================] - 0s 8ms/step - loss: 2.0192 - mae: 2.0192\n",
            "Epoch 63/100\n",
            "1/1 [==============================] - 0s 9ms/step - loss: 1.9963 - mae: 1.9963\n",
            "Epoch 64/100\n",
            "1/1 [==============================] - 0s 10ms/step - loss: 1.9729 - mae: 1.9729\n",
            "Epoch 65/100\n",
            "1/1 [==============================] - 0s 9ms/step - loss: 1.9490 - mae: 1.9490\n",
            "Epoch 66/100\n",
            "1/1 [==============================] - 0s 10ms/step - loss: 1.9246 - mae: 1.9246\n",
            "Epoch 67/100\n",
            "1/1 [==============================] - 0s 10ms/step - loss: 1.8997 - mae: 1.8997\n",
            "Epoch 68/100\n",
            "1/1 [==============================] - 0s 13ms/step - loss: 1.8742 - mae: 1.8742\n",
            "Epoch 69/100\n",
            "1/1 [==============================] - 0s 8ms/step - loss: 1.8482 - mae: 1.8482\n",
            "Epoch 70/100\n",
            "1/1 [==============================] - 0s 9ms/step - loss: 1.8216 - mae: 1.8216\n",
            "Epoch 71/100\n",
            "1/1 [==============================] - 0s 8ms/step - loss: 1.7943 - mae: 1.7943\n",
            "Epoch 72/100\n",
            "1/1 [==============================] - 0s 9ms/step - loss: 1.7664 - mae: 1.7664\n",
            "Epoch 73/100\n",
            "1/1 [==============================] - 0s 11ms/step - loss: 1.7378 - mae: 1.7378\n",
            "Epoch 74/100\n",
            "1/1 [==============================] - 0s 9ms/step - loss: 1.7085 - mae: 1.7085\n",
            "Epoch 75/100\n",
            "1/1 [==============================] - 0s 9ms/step - loss: 1.6785 - mae: 1.6785\n",
            "Epoch 76/100\n",
            "1/1 [==============================] - 0s 13ms/step - loss: 1.6477 - mae: 1.6477\n",
            "Epoch 77/100\n",
            "1/1 [==============================] - 0s 9ms/step - loss: 1.6160 - mae: 1.6160\n",
            "Epoch 78/100\n",
            "1/1 [==============================] - 0s 9ms/step - loss: 1.5835 - mae: 1.5835\n",
            "Epoch 79/100\n",
            "1/1 [==============================] - 0s 8ms/step - loss: 1.5501 - mae: 1.5501\n",
            "Epoch 80/100\n",
            "1/1 [==============================] - 0s 11ms/step - loss: 1.5158 - mae: 1.5158\n",
            "Epoch 81/100\n",
            "1/1 [==============================] - 0s 12ms/step - loss: 1.4804 - mae: 1.4804\n",
            "Epoch 82/100\n",
            "1/1 [==============================] - 0s 10ms/step - loss: 1.4440 - mae: 1.4440\n",
            "Epoch 83/100\n",
            "1/1 [==============================] - 0s 9ms/step - loss: 1.4065 - mae: 1.4065\n",
            "Epoch 84/100\n",
            "1/1 [==============================] - 0s 13ms/step - loss: 1.3679 - mae: 1.3679\n",
            "Epoch 85/100\n",
            "1/1 [==============================] - 0s 8ms/step - loss: 1.3280 - mae: 1.3280\n",
            "Epoch 86/100\n",
            "1/1 [==============================] - 0s 13ms/step - loss: 1.2869 - mae: 1.2869\n",
            "Epoch 87/100\n",
            "1/1 [==============================] - 0s 10ms/step - loss: 1.2444 - mae: 1.2444\n",
            "Epoch 88/100\n",
            "1/1 [==============================] - 0s 9ms/step - loss: 1.2005 - mae: 1.2005\n",
            "Epoch 89/100\n",
            "1/1 [==============================] - 0s 9ms/step - loss: 1.1552 - mae: 1.1552\n",
            "Epoch 90/100\n",
            "1/1 [==============================] - 0s 12ms/step - loss: 1.1083 - mae: 1.1083\n",
            "Epoch 91/100\n",
            "1/1 [==============================] - 0s 22ms/step - loss: 1.0597 - mae: 1.0597\n",
            "Epoch 92/100\n",
            "1/1 [==============================] - 0s 15ms/step - loss: 1.0095 - mae: 1.0095\n",
            "Epoch 93/100\n",
            "1/1 [==============================] - 0s 14ms/step - loss: 0.9753 - mae: 0.9753\n",
            "Epoch 94/100\n",
            "1/1 [==============================] - 0s 12ms/step - loss: 0.9085 - mae: 0.9085\n",
            "Epoch 95/100\n",
            "1/1 [==============================] - 0s 12ms/step - loss: 0.8586 - mae: 0.8586\n",
            "Epoch 96/100\n",
            "1/1 [==============================] - 0s 11ms/step - loss: 0.8075 - mae: 0.8075\n",
            "Epoch 97/100\n",
            "1/1 [==============================] - 0s 9ms/step - loss: 0.7539 - mae: 0.7539\n",
            "Epoch 98/100\n",
            "1/1 [==============================] - 0s 11ms/step - loss: 0.7227 - mae: 0.7227\n",
            "Epoch 99/100\n",
            "1/1 [==============================] - 0s 9ms/step - loss: 0.6481 - mae: 0.6481\n",
            "Epoch 100/100\n",
            "1/1 [==============================] - 0s 9ms/step - loss: 0.5742 - mae: 0.5742\n"
          ]
        },
        {
          "output_type": "execute_result",
          "data": {
            "text/plain": [
              "<keras.callbacks.History at 0x7f11bacd16d0>"
            ]
          },
          "metadata": {},
          "execution_count": 67
        }
      ]
    },
    {
      "cell_type": "code",
      "source": [
        "model.predict([8.0])"
      ],
      "metadata": {
        "colab": {
          "base_uri": "https://localhost:8080/"
        },
        "id": "TySv2-kpZbWA",
        "outputId": "3594c66e-a00b-4402-91be-817805b2d028"
      },
      "execution_count": 68,
      "outputs": [
        {
          "output_type": "stream",
          "name": "stdout",
          "text": [
            "1/1 [==============================] - 0s 330ms/step\n"
          ]
        },
        {
          "output_type": "execute_result",
          "data": {
            "text/plain": [
              "array([[19.524757]], dtype=float32)"
            ]
          },
          "metadata": {},
          "execution_count": 68
        }
      ]
    },
    {
      "cell_type": "code",
      "source": [
        "X = tf.range(-200, 200, 4)\n",
        "y = X + 10"
      ],
      "metadata": {
        "id": "AlzHfgQibBbv"
      },
      "execution_count": 69,
      "outputs": []
    },
    {
      "cell_type": "code",
      "source": [
        "import matplotlib.pyplot as plt\n",
        "plt.scatter(X,y)"
      ],
      "metadata": {
        "colab": {
          "base_uri": "https://localhost:8080/",
          "height": 282
        },
        "id": "hrasDneVhcHo",
        "outputId": "db4b1585-8d9b-41b3-c6a3-17c6e8041ec1"
      },
      "execution_count": 70,
      "outputs": [
        {
          "output_type": "execute_result",
          "data": {
            "text/plain": [
              "<matplotlib.collections.PathCollection at 0x7f11bab08a90>"
            ]
          },
          "metadata": {},
          "execution_count": 70
        },
        {
          "output_type": "display_data",
          "data": {
            "text/plain": [
              "<Figure size 432x288 with 1 Axes>"
            ],
            "image/png": "[encoded data removed]"
          },
          "metadata": {
            "needs_background": "light"
          }
        }
      ]
    },
    {
      "cell_type": "code",
      "source": [
        "len(X)"
      ],
      "metadata": {
        "colab": {
          "base_uri": "https://localhost:8080/"
        },
        "id": "zsJcRoZLhqnU",
        "outputId": "ef3b784d-719a-4e13-fc31-32d542da7594"
      },
      "execution_count": 71,
      "outputs": [
        {
          "output_type": "execute_result",
          "data": {
            "text/plain": [
              "100"
            ]
          },
          "metadata": {},
          "execution_count": 71
        }
      ]
    },
    {
      "cell_type": "code",
      "source": [
        "X_train=X[:80]\n",
        "X_test=X[80:]\n",
        "y_train=y[:80]\n",
        "y_test=y[80:]"
      ],
      "metadata": {
        "id": "V-Dp92rIidlZ"
      },
      "execution_count": 72,
      "outputs": []
    },
    {
      "cell_type": "code",
      "source": [
        "plt.scatter(X_train,y_train, label=\"Training data\")\n",
        "plt.scatter(X_test,y_test, label= \"Test Data\")\n",
        "plt.legend();"
      ],
      "metadata": {
        "colab": {
          "base_uri": "https://localhost:8080/",
          "height": 265
        },
        "id": "FRo4r2bSikpC",
        "outputId": "eee69c5b-4569-4c84-8249-3c0883e358bb"
      },
      "execution_count": 73,
      "outputs": [
        {
          "output_type": "display_data",
          "data": {
            "text/plain": [
              "<Figure size 432x288 with 1 Axes>"
            ],
            "image/png": "[encoded data removed]"
          },
          "metadata": {
            "needs_background": "light"
          }
        }
      ]
    },
    {
      "cell_type": "code",
      "source": [
        "model = tf.keras.models.Sequential()\n",
        "model.add(tf.keras.layers.Dense(64,activation=None))\n",
        "model.add(tf.keras.layers.Dense(1,activation=None))\n",
        "model.compile(loss=\"mae\",optimizer=tf.keras.optimizers.Adam(learning_rate=0.01),metrics=[\"mae\"])\n"
      ],
      "metadata": {
        "id": "ObTgRQmijIC6"
      },
      "execution_count": 80,
      "outputs": []
    },
    {
      "cell_type": "code",
      "source": [
        "model.build(input_shape=tf.expand_dims(X_train,axis=-1).shape)\n",
        "model.summary()"
      ],
      "metadata": {
        "colab": {
          "base_uri": "https://localhost:8080/"
        },
        "id": "QL5wj60vozzj",
        "outputId": "b5f7eaec-f927-4130-ae59-b4d7b4f6626e"
      },
      "execution_count": 90,
      "outputs": [
        {
          "output_type": "stream",
          "name": "stdout",
          "text": [
            "Model: \"sequential_32\"\n",
            "_________________________________________________________________\n",
            " Layer (type)                Output Shape              Param #   \n",
            "=================================================================\n",
            " dense_61 (Dense)            multiple                  128       \n",
            "                                                                 \n",
            " dense_62 (Dense)            multiple                  65        \n",
            "                                                                 \n",
            "=================================================================\n",
            "Total params: 193\n",
            "Trainable params: 193\n",
            "Non-trainable params: 0\n",
            "_________________________________________________________________\n"
          ]
        }
      ]
    },
    {
      "cell_type": "code",
      "source": [
        "model.fit(x=tf.expand_dims(X_train, axis=-1),y=y_train, epochs=100)"
      ],
      "metadata": {
        "colab": {
          "base_uri": "https://localhost:8080/"
        },
        "id": "zeJY16dMosfI",
        "outputId": "b5acf14e-4aea-4793-b263-85bd2fb45c61"
      },
      "execution_count": 91,
      "outputs": [
        {
          "output_type": "stream",
          "name": "stdout",
          "text": [
            "Epoch 1/100\n",
            "3/3 [==============================] - 0s 5ms/step - loss: 59.9609 - mae: 59.9609\n",
            "Epoch 2/100\n",
            "3/3 [==============================] - 0s 5ms/step - loss: 17.1626 - mae: 17.1626\n",
            "Epoch 3/100\n",
            "3/3 [==============================] - 0s 4ms/step - loss: 22.8587 - mae: 22.8587\n",
            "Epoch 4/100\n",
            "3/3 [==============================] - 0s 4ms/step - loss: 16.4060 - mae: 16.4060\n",
            "Epoch 5/100\n",
            "3/3 [==============================] - 0s 4ms/step - loss: 11.3536 - mae: 11.3536\n",
            "Epoch 6/100\n",
            "3/3 [==============================] - 0s 4ms/step - loss: 16.7523 - mae: 16.7523\n",
            "Epoch 7/100\n",
            "3/3 [==============================] - 0s 4ms/step - loss: 9.5940 - mae: 9.5940\n",
            "Epoch 8/100\n",
            "3/3 [==============================] - 0s 4ms/step - loss: 10.2295 - mae: 10.2295\n",
            "Epoch 9/100\n",
            "3/3 [==============================] - 0s 5ms/step - loss: 10.1000 - mae: 10.1000\n",
            "Epoch 10/100\n",
            "3/3 [==============================] - 0s 4ms/step - loss: 7.5604 - mae: 7.5604\n",
            "Epoch 11/100\n",
            "3/3 [==============================] - 0s 6ms/step - loss: 7.8523 - mae: 7.8523\n",
            "Epoch 12/100\n",
            "3/3 [==============================] - 0s 4ms/step - loss: 7.0518 - mae: 7.0518\n",
            "Epoch 13/100\n",
            "3/3 [==============================] - 0s 5ms/step - loss: 6.3330 - mae: 6.3330\n",
            "Epoch 14/100\n",
            "3/3 [==============================] - 0s 4ms/step - loss: 6.4943 - mae: 6.4943\n",
            "Epoch 15/100\n",
            "3/3 [==============================] - 0s 4ms/step - loss: 6.4963 - mae: 6.4963\n",
            "Epoch 16/100\n",
            "3/3 [==============================] - 0s 5ms/step - loss: 5.8875 - mae: 5.8875\n",
            "Epoch 17/100\n",
            "3/3 [==============================] - 0s 4ms/step - loss: 5.4718 - mae: 5.4718\n",
            "Epoch 18/100\n",
            "3/3 [==============================] - 0s 4ms/step - loss: 6.4310 - mae: 6.4310\n",
            "Epoch 19/100\n",
            "3/3 [==============================] - 0s 6ms/step - loss: 5.3361 - mae: 5.3361\n",
            "Epoch 20/100\n",
            "3/3 [==============================] - 0s 5ms/step - loss: 5.0785 - mae: 5.0785\n",
            "Epoch 21/100\n",
            "3/3 [==============================] - 0s 7ms/step - loss: 5.1768 - mae: 5.1768\n",
            "Epoch 22/100\n",
            "3/3 [==============================] - 0s 4ms/step - loss: 4.7215 - mae: 4.7215\n",
            "Epoch 23/100\n",
            "3/3 [==============================] - 0s 4ms/step - loss: 4.2199 - mae: 4.2199\n",
            "Epoch 24/100\n",
            "3/3 [==============================] - 0s 4ms/step - loss: 3.7585 - mae: 3.7585\n",
            "Epoch 25/100\n",
            "3/3 [==============================] - 0s 4ms/step - loss: 3.8648 - mae: 3.8648\n",
            "Epoch 26/100\n",
            "3/3 [==============================] - 0s 6ms/step - loss: 3.7733 - mae: 3.7733\n",
            "Epoch 27/100\n",
            "3/3 [==============================] - 0s 5ms/step - loss: 2.8497 - mae: 2.8497\n",
            "Epoch 28/100\n",
            "3/3 [==============================] - 0s 5ms/step - loss: 2.1775 - mae: 2.1775\n",
            "Epoch 29/100\n",
            "3/3 [==============================] - 0s 4ms/step - loss: 1.9299 - mae: 1.9299\n",
            "Epoch 30/100\n",
            "3/3 [==============================] - 0s 4ms/step - loss: 1.9961 - mae: 1.9961\n",
            "Epoch 31/100\n",
            "3/3 [==============================] - 0s 5ms/step - loss: 1.3556 - mae: 1.3556\n",
            "Epoch 32/100\n",
            "3/3 [==============================] - 0s 4ms/step - loss: 0.8803 - mae: 0.8803\n",
            "Epoch 33/100\n",
            "3/3 [==============================] - 0s 4ms/step - loss: 1.0332 - mae: 1.0332\n",
            "Epoch 34/100\n",
            "3/3 [==============================] - 0s 6ms/step - loss: 2.1000 - mae: 2.1000\n",
            "Epoch 35/100\n",
            "3/3 [==============================] - 0s 3ms/step - loss: 2.9018 - mae: 2.9018\n",
            "Epoch 36/100\n",
            "3/3 [==============================] - 0s 5ms/step - loss: 4.8198 - mae: 4.8198\n",
            "Epoch 37/100\n",
            "3/3 [==============================] - 0s 4ms/step - loss: 3.2901 - mae: 3.2901\n",
            "Epoch 38/100\n",
            "3/3 [==============================] - 0s 4ms/step - loss: 2.4622 - mae: 2.4622\n",
            "Epoch 39/100\n",
            "3/3 [==============================] - 0s 5ms/step - loss: 2.1980 - mae: 2.1980\n",
            "Epoch 40/100\n",
            "3/3 [==============================] - 0s 4ms/step - loss: 4.3218 - mae: 4.3218\n",
            "Epoch 41/100\n",
            "3/3 [==============================] - 0s 5ms/step - loss: 4.8008 - mae: 4.8008\n",
            "Epoch 42/100\n",
            "3/3 [==============================] - 0s 4ms/step - loss: 2.5636 - mae: 2.5636\n",
            "Epoch 43/100\n",
            "3/3 [==============================] - 0s 5ms/step - loss: 2.3853 - mae: 2.3853\n",
            "Epoch 44/100\n",
            "3/3 [==============================] - 0s 39ms/step - loss: 5.0901 - mae: 5.0901\n",
            "Epoch 45/100\n",
            "3/3 [==============================] - 0s 10ms/step - loss: 2.0950 - mae: 2.0950\n",
            "Epoch 46/100\n",
            "3/3 [==============================] - 0s 8ms/step - loss: 1.6025 - mae: 1.6025\n",
            "Epoch 47/100\n",
            "3/3 [==============================] - 0s 8ms/step - loss: 2.3521 - mae: 2.3521\n",
            "Epoch 48/100\n",
            "3/3 [==============================] - 0s 8ms/step - loss: 1.3678 - mae: 1.3678\n",
            "Epoch 49/100\n",
            "3/3 [==============================] - 0s 9ms/step - loss: 0.4329 - mae: 0.4329\n",
            "Epoch 50/100\n",
            "3/3 [==============================] - 0s 5ms/step - loss: 0.5499 - mae: 0.5499\n",
            "Epoch 51/100\n",
            "3/3 [==============================] - 0s 4ms/step - loss: 1.3551 - mae: 1.3551\n",
            "Epoch 52/100\n",
            "3/3 [==============================] - 0s 4ms/step - loss: 2.0154 - mae: 2.0154\n",
            "Epoch 53/100\n",
            "3/3 [==============================] - 0s 4ms/step - loss: 2.3662 - mae: 2.3662\n",
            "Epoch 54/100\n",
            "3/3 [==============================] - 0s 4ms/step - loss: 2.6535 - mae: 2.6535\n",
            "Epoch 55/100\n",
            "3/3 [==============================] - 0s 5ms/step - loss: 4.1006 - mae: 4.1006\n",
            "Epoch 56/100\n",
            "3/3 [==============================] - 0s 4ms/step - loss: 1.2498 - mae: 1.2498\n",
            "Epoch 57/100\n",
            "3/3 [==============================] - 0s 5ms/step - loss: 1.3099 - mae: 1.3099\n",
            "Epoch 58/100\n",
            "3/3 [==============================] - 0s 4ms/step - loss: 3.5357 - mae: 3.5357\n",
            "Epoch 59/100\n",
            "3/3 [==============================] - 0s 4ms/step - loss: 2.6560 - mae: 2.6560\n",
            "Epoch 60/100\n",
            "3/3 [==============================] - 0s 5ms/step - loss: 4.7422 - mae: 4.7422\n",
            "Epoch 61/100\n",
            "3/3 [==============================] - 0s 4ms/step - loss: 3.7105 - mae: 3.7105\n",
            "Epoch 62/100\n",
            "3/3 [==============================] - 0s 4ms/step - loss: 2.4983 - mae: 2.4983\n",
            "Epoch 63/100\n",
            "3/3 [==============================] - 0s 5ms/step - loss: 4.6842 - mae: 4.6842\n",
            "Epoch 64/100\n",
            "3/3 [==============================] - 0s 5ms/step - loss: 1.8328 - mae: 1.8328\n",
            "Epoch 65/100\n",
            "3/3 [==============================] - 0s 4ms/step - loss: 1.6069 - mae: 1.6069\n",
            "Epoch 66/100\n",
            "3/3 [==============================] - 0s 4ms/step - loss: 1.3524 - mae: 1.3524\n",
            "Epoch 67/100\n",
            "3/3 [==============================] - 0s 4ms/step - loss: 1.5839 - mae: 1.5839\n",
            "Epoch 68/100\n",
            "3/3 [==============================] - 0s 5ms/step - loss: 1.6348 - mae: 1.6348\n",
            "Epoch 69/100\n",
            "3/3 [==============================] - 0s 7ms/step - loss: 0.8883 - mae: 0.8883\n",
            "Epoch 70/100\n",
            "3/3 [==============================] - 0s 6ms/step - loss: 0.8137 - mae: 0.8137\n",
            "Epoch 71/100\n",
            "3/3 [==============================] - 0s 6ms/step - loss: 1.4348 - mae: 1.4348\n",
            "Epoch 72/100\n",
            "3/3 [==============================] - 0s 5ms/step - loss: 3.4203 - mae: 3.4203\n",
            "Epoch 73/100\n",
            "3/3 [==============================] - 0s 5ms/step - loss: 2.5593 - mae: 2.5593\n",
            "Epoch 74/100\n",
            "3/3 [==============================] - 0s 5ms/step - loss: 1.9829 - mae: 1.9829\n",
            "Epoch 75/100\n",
            "3/3 [==============================] - 0s 5ms/step - loss: 1.4781 - mae: 1.4781\n",
            "Epoch 76/100\n",
            "3/3 [==============================] - 0s 5ms/step - loss: 3.9480 - mae: 3.9480\n",
            "Epoch 77/100\n",
            "3/3 [==============================] - 0s 5ms/step - loss: 1.7837 - mae: 1.7837\n",
            "Epoch 78/100\n",
            "3/3 [==============================] - 0s 5ms/step - loss: 0.6617 - mae: 0.6617\n",
            "Epoch 79/100\n",
            "3/3 [==============================] - 0s 4ms/step - loss: 0.7687 - mae: 0.7687\n",
            "Epoch 80/100\n",
            "3/3 [==============================] - 0s 5ms/step - loss: 0.8291 - mae: 0.8291\n",
            "Epoch 81/100\n",
            "3/3 [==============================] - 0s 5ms/step - loss: 0.6079 - mae: 0.6079\n",
            "Epoch 82/100\n",
            "3/3 [==============================] - 0s 10ms/step - loss: 1.4033 - mae: 1.4033\n",
            "Epoch 83/100\n",
            "3/3 [==============================] - 0s 5ms/step - loss: 2.8952 - mae: 2.8952\n",
            "Epoch 84/100\n",
            "3/3 [==============================] - 0s 5ms/step - loss: 2.1194 - mae: 2.1194\n",
            "Epoch 85/100\n",
            "3/3 [==============================] - 0s 4ms/step - loss: 2.5077 - mae: 2.5077\n",
            "Epoch 86/100\n",
            "3/3 [==============================] - 0s 4ms/step - loss: 1.8273 - mae: 1.8273\n",
            "Epoch 87/100\n",
            "3/3 [==============================] - 0s 5ms/step - loss: 1.2910 - mae: 1.2910\n",
            "Epoch 88/100\n",
            "3/3 [==============================] - 0s 5ms/step - loss: 0.9266 - mae: 0.9266\n",
            "Epoch 89/100\n",
            "3/3 [==============================] - 0s 5ms/step - loss: 1.6156 - mae: 1.6156\n",
            "Epoch 90/100\n",
            "3/3 [==============================] - 0s 5ms/step - loss: 1.4935 - mae: 1.4935\n",
            "Epoch 91/100\n",
            "3/3 [==============================] - 0s 5ms/step - loss: 2.3205 - mae: 2.3205\n",
            "Epoch 92/100\n",
            "3/3 [==============================] - 0s 5ms/step - loss: 3.3904 - mae: 3.3904\n",
            "Epoch 93/100\n",
            "3/3 [==============================] - 0s 5ms/step - loss: 1.9684 - mae: 1.9684\n",
            "Epoch 94/100\n",
            "3/3 [==============================] - 0s 5ms/step - loss: 2.5034 - mae: 2.5034\n",
            "Epoch 95/100\n",
            "3/3 [==============================] - 0s 5ms/step - loss: 1.3425 - mae: 1.3425\n",
            "Epoch 96/100\n",
            "3/3 [==============================] - 0s 5ms/step - loss: 0.7001 - mae: 0.7001\n",
            "Epoch 97/100\n",
            "3/3 [==============================] - 0s 5ms/step - loss: 0.8951 - mae: 0.8951\n",
            "Epoch 98/100\n",
            "3/3 [==============================] - 0s 4ms/step - loss: 0.8152 - mae: 0.8152\n",
            "Epoch 99/100\n",
            "3/3 [==============================] - 0s 4ms/step - loss: 0.1513 - mae: 0.1513\n",
            "Epoch 100/100\n",
            "3/3 [==============================] - 0s 4ms/step - loss: 1.0058 - mae: 1.0058\n"
          ]
        },
        {
          "output_type": "execute_result",
          "data": {
            "text/plain": [
              "<keras.callbacks.History at 0x7f11ba9b8520>"
            ]
          },
          "metadata": {},
          "execution_count": 91
        }
      ]
    },
    {
      "cell_type": "code",
      "source": [
        "model.predict([100])"
      ],
      "metadata": {
        "colab": {
          "base_uri": "https://localhost:8080/"
        },
        "id": "ISB4rNOglLw9",
        "outputId": "eb001817-544b-4699-9259-499ee29d8a71"
      },
      "execution_count": 77,
      "outputs": [
        {
          "output_type": "stream",
          "name": "stdout",
          "text": [
            "1/1 [==============================] - 0s 64ms/step\n"
          ]
        },
        {
          "output_type": "execute_result",
          "data": {
            "text/plain": [
              "array([[109.582436]], dtype=float32)"
            ]
          },
          "metadata": {},
          "execution_count": 77
        }
      ]
    },
    {
      "cell_type": "code",
      "source": [],
      "metadata": {
        "id": "bNaBR3omntvI"
      },
      "execution_count": null,
      "outputs": []
    }
  ]
}
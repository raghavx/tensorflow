{
  "nbformat": 4,
  "nbformat_minor": 0,
  "metadata": {
    "colab": {
      "provenance": [],
      "authorship_tag": "ABX9TyPB52VhiIIcFH8xI9LraxbI",
      "include_colab_link": true
    },
    "kernelspec": {
      "name": "python3",
      "display_name": "Python 3"
    },
    "language_info": {
      "name": "python"
    }
  },
  "cells": [
    {
      "cell_type": "markdown",
      "metadata": {
        "id": "view-in-github",
        "colab_type": "text"
      },
      "source": [
        "<a href=\"https://colab.research.google.com/github/raghavx/tensorflow/blob/main/01_train.ipynb\" target=\"_parent\"><img src=\"https://colab.research.google.com/assets/colab-badge.svg\" alt=\"Open In Colab\"/></a>"
      ]
    },
    {
      "cell_type": "code",
      "execution_count": 1,
      "metadata": {
        "colab": {
          "base_uri": "https://localhost:8080/"
        },
        "id": "SZszG9MOWWiz",
        "outputId": "d4e197e6-813b-4fbd-f77d-a6989bf4c351"
      },
      "outputs": [
        {
          "output_type": "stream",
          "name": "stdout",
          "text": [
            "2.9.2\n"
          ]
        }
      ],
      "source": [
        "import tensorflow as tf\n",
        "print(tf.__version__)"
      ]
    },
    {
      "cell_type": "code",
      "source": [],
      "metadata": {
        "id": "roNgWBmwYZ78"
      },
      "execution_count": 1,
      "outputs": []
    },
    {
      "cell_type": "code",
      "source": [
        "X = tf.constant([1.0,2.0,3.0,4.0,5.0,6.0,2.0,3.0,4.0,5.0,6.0])\n",
        "y = tf.constant([11.0,12.0,13.0,14.0,15.0,16.0,12.0,13.0,14.0,15.0,16.0])\n",
        "X,y"
      ],
      "metadata": {
        "colab": {
          "base_uri": "https://localhost:8080/"
        },
        "id": "08YSGiZMWgrp",
        "outputId": "077c2e1e-314b-413d-9a3c-e6681c6ed2d2"
      },
      "execution_count": 2,
      "outputs": [
        {
          "output_type": "execute_result",
          "data": {
            "text/plain": [
              "(<tf.Tensor: shape=(11,), dtype=float32, numpy=array([1., 2., 3., 4., 5., 6., 2., 3., 4., 5., 6.], dtype=float32)>,\n",
              " <tf.Tensor: shape=(11,), dtype=float32, numpy=\n",
              " array([11., 12., 13., 14., 15., 16., 12., 13., 14., 15., 16.],\n",
              "       dtype=float32)>)"
            ]
          },
          "metadata": {},
          "execution_count": 2
        }
      ]
    },
    {
      "cell_type": "code",
      "source": [
        "model = tf.keras.Sequential()\n",
        "model.add(tf.keras.layers.Dense(50, activation=None))\n",
        "model.add(tf.keras.layers.Dense(1, activation=None))\n",
        "model.compile(loss=\"mae\" ,optimizer=tf.keras.optimizers.Adam(learning_rate=0.01), metrics=[\"mae\"])\n",
        "model.fit(x=tf.expand_dims(X, axis=-1),y=y,epochs=100)\n",
        "\n"
      ],
      "metadata": {
        "colab": {
          "base_uri": "https://localhost:8080/"
        },
        "id": "lk3FX0PbYa-W",
        "outputId": "2eadd5f0-74f1-4aa5-8190-001f2155bec0"
      },
      "execution_count": 3,
      "outputs": [
        {
          "output_type": "stream",
          "name": "stdout",
          "text": [
            "Epoch 1/100\n",
            "1/1 [==============================] - 1s 1s/step - loss: 14.6981 - mae: 14.6981\n",
            "Epoch 2/100\n",
            "1/1 [==============================] - 0s 15ms/step - loss: 14.0128 - mae: 14.0128\n",
            "Epoch 3/100\n",
            "1/1 [==============================] - 0s 13ms/step - loss: 13.3318 - mae: 13.3318\n",
            "Epoch 4/100\n",
            "1/1 [==============================] - 0s 14ms/step - loss: 12.6549 - mae: 12.6549\n",
            "Epoch 5/100\n",
            "1/1 [==============================] - 0s 12ms/step - loss: 11.9804 - mae: 11.9804\n",
            "Epoch 6/100\n",
            "1/1 [==============================] - 0s 13ms/step - loss: 11.3058 - mae: 11.3058\n",
            "Epoch 7/100\n",
            "1/1 [==============================] - 0s 13ms/step - loss: 10.6276 - mae: 10.6276\n",
            "Epoch 8/100\n",
            "1/1 [==============================] - 0s 15ms/step - loss: 9.9420 - mae: 9.9420\n",
            "Epoch 9/100\n",
            "1/1 [==============================] - 0s 12ms/step - loss: 9.2457 - mae: 9.2457\n",
            "Epoch 10/100\n",
            "1/1 [==============================] - 0s 13ms/step - loss: 8.5352 - mae: 8.5352\n",
            "Epoch 11/100\n",
            "1/1 [==============================] - 0s 9ms/step - loss: 7.8069 - mae: 7.8069\n",
            "Epoch 12/100\n",
            "1/1 [==============================] - 0s 22ms/step - loss: 7.0578 - mae: 7.0578\n",
            "Epoch 13/100\n",
            "1/1 [==============================] - 0s 9ms/step - loss: 6.2844 - mae: 6.2844\n",
            "Epoch 14/100\n",
            "1/1 [==============================] - 0s 9ms/step - loss: 5.4838 - mae: 5.4838\n",
            "Epoch 15/100\n",
            "1/1 [==============================] - 0s 8ms/step - loss: 4.6526 - mae: 4.6526\n",
            "Epoch 16/100\n",
            "1/1 [==============================] - 0s 7ms/step - loss: 3.7880 - mae: 3.7880\n",
            "Epoch 17/100\n",
            "1/1 [==============================] - 0s 10ms/step - loss: 3.0540 - mae: 3.0540\n",
            "Epoch 18/100\n",
            "1/1 [==============================] - 0s 14ms/step - loss: 2.7010 - mae: 2.7010\n",
            "Epoch 19/100\n",
            "1/1 [==============================] - 0s 16ms/step - loss: 2.7128 - mae: 2.7128\n",
            "Epoch 20/100\n",
            "1/1 [==============================] - 0s 12ms/step - loss: 2.7910 - mae: 2.7910\n",
            "Epoch 21/100\n",
            "1/1 [==============================] - 0s 12ms/step - loss: 3.0425 - mae: 3.0425\n",
            "Epoch 22/100\n",
            "1/1 [==============================] - 0s 8ms/step - loss: 3.2382 - mae: 3.2382\n",
            "Epoch 23/100\n",
            "1/1 [==============================] - 0s 12ms/step - loss: 3.3813 - mae: 3.3813\n",
            "Epoch 24/100\n",
            "1/1 [==============================] - 0s 14ms/step - loss: 3.4759 - mae: 3.4759\n",
            "Epoch 25/100\n",
            "1/1 [==============================] - 0s 20ms/step - loss: 3.5260 - mae: 3.5260\n",
            "Epoch 26/100\n",
            "1/1 [==============================] - 0s 15ms/step - loss: 3.5361 - mae: 3.5361\n",
            "Epoch 27/100\n",
            "1/1 [==============================] - 0s 15ms/step - loss: 3.5104 - mae: 3.5104\n",
            "Epoch 28/100\n",
            "1/1 [==============================] - 0s 11ms/step - loss: 3.4532 - mae: 3.4532\n",
            "Epoch 29/100\n",
            "1/1 [==============================] - 0s 17ms/step - loss: 3.3685 - mae: 3.3685\n",
            "Epoch 30/100\n",
            "1/1 [==============================] - 0s 17ms/step - loss: 3.2601 - mae: 3.2601\n",
            "Epoch 31/100\n",
            "1/1 [==============================] - 0s 15ms/step - loss: 3.1316 - mae: 3.1316\n",
            "Epoch 32/100\n",
            "1/1 [==============================] - 0s 35ms/step - loss: 2.9861 - mae: 2.9861\n",
            "Epoch 33/100\n",
            "1/1 [==============================] - 0s 18ms/step - loss: 2.8267 - mae: 2.8267\n",
            "Epoch 34/100\n",
            "1/1 [==============================] - 0s 21ms/step - loss: 2.6560 - mae: 2.6560\n",
            "Epoch 35/100\n",
            "1/1 [==============================] - 0s 46ms/step - loss: 2.5386 - mae: 2.5386\n",
            "Epoch 36/100\n",
            "1/1 [==============================] - 0s 23ms/step - loss: 2.5205 - mae: 2.5205\n",
            "Epoch 37/100\n",
            "1/1 [==============================] - 0s 29ms/step - loss: 2.5022 - mae: 2.5022\n",
            "Epoch 38/100\n",
            "1/1 [==============================] - 0s 6ms/step - loss: 2.4839 - mae: 2.4839\n",
            "Epoch 39/100\n",
            "1/1 [==============================] - 0s 6ms/step - loss: 2.4712 - mae: 2.4712\n",
            "Epoch 40/100\n",
            "1/1 [==============================] - 0s 6ms/step - loss: 2.5327 - mae: 2.5327\n",
            "Epoch 41/100\n",
            "1/1 [==============================] - 0s 12ms/step - loss: 2.5517 - mae: 2.5517\n",
            "Epoch 42/100\n",
            "1/1 [==============================] - 0s 30ms/step - loss: 2.5330 - mae: 2.5330\n",
            "Epoch 43/100\n",
            "1/1 [==============================] - 0s 23ms/step - loss: 2.4802 - mae: 2.4802\n",
            "Epoch 44/100\n",
            "1/1 [==============================] - 0s 23ms/step - loss: 2.3961 - mae: 2.3961\n",
            "Epoch 45/100\n",
            "1/1 [==============================] - 0s 26ms/step - loss: 2.3546 - mae: 2.3546\n",
            "Epoch 46/100\n",
            "1/1 [==============================] - 0s 29ms/step - loss: 2.3349 - mae: 2.3349\n",
            "Epoch 47/100\n",
            "1/1 [==============================] - 0s 25ms/step - loss: 2.3148 - mae: 2.3148\n",
            "Epoch 48/100\n",
            "1/1 [==============================] - 0s 15ms/step - loss: 2.2940 - mae: 2.2940\n",
            "Epoch 49/100\n",
            "1/1 [==============================] - 0s 9ms/step - loss: 2.2728 - mae: 2.2728\n",
            "Epoch 50/100\n",
            "1/1 [==============================] - 0s 7ms/step - loss: 2.2510 - mae: 2.2510\n",
            "Epoch 51/100\n",
            "1/1 [==============================] - 0s 13ms/step - loss: 2.2287 - mae: 2.2287\n",
            "Epoch 52/100\n",
            "1/1 [==============================] - 0s 11ms/step - loss: 2.2058 - mae: 2.2058\n",
            "Epoch 53/100\n",
            "1/1 [==============================] - 0s 11ms/step - loss: 2.1884 - mae: 2.1884\n",
            "Epoch 54/100\n",
            "1/1 [==============================] - 0s 23ms/step - loss: 2.1775 - mae: 2.1775\n",
            "Epoch 55/100\n",
            "1/1 [==============================] - 0s 23ms/step - loss: 2.1378 - mae: 2.1378\n",
            "Epoch 56/100\n",
            "1/1 [==============================] - 0s 21ms/step - loss: 2.1161 - mae: 2.1161\n",
            "Epoch 57/100\n",
            "1/1 [==============================] - 0s 27ms/step - loss: 2.0942 - mae: 2.0942\n",
            "Epoch 58/100\n",
            "1/1 [==============================] - 0s 19ms/step - loss: 2.0718 - mae: 2.0718\n",
            "Epoch 59/100\n",
            "1/1 [==============================] - 0s 22ms/step - loss: 2.0489 - mae: 2.0489\n",
            "Epoch 60/100\n",
            "1/1 [==============================] - 0s 24ms/step - loss: 2.0255 - mae: 2.0255\n",
            "Epoch 61/100\n",
            "1/1 [==============================] - 0s 20ms/step - loss: 2.0016 - mae: 2.0016\n",
            "Epoch 62/100\n",
            "1/1 [==============================] - 0s 19ms/step - loss: 1.9771 - mae: 1.9771\n",
            "Epoch 63/100\n",
            "1/1 [==============================] - 0s 20ms/step - loss: 1.9521 - mae: 1.9521\n",
            "Epoch 64/100\n",
            "1/1 [==============================] - 0s 22ms/step - loss: 1.9266 - mae: 1.9266\n",
            "Epoch 65/100\n",
            "1/1 [==============================] - 0s 19ms/step - loss: 1.9004 - mae: 1.9004\n",
            "Epoch 66/100\n",
            "1/1 [==============================] - 0s 20ms/step - loss: 1.8736 - mae: 1.8736\n",
            "Epoch 67/100\n",
            "1/1 [==============================] - 0s 26ms/step - loss: 1.8462 - mae: 1.8462\n",
            "Epoch 68/100\n",
            "1/1 [==============================] - 0s 25ms/step - loss: 1.8181 - mae: 1.8181\n",
            "Epoch 69/100\n",
            "1/1 [==============================] - 0s 21ms/step - loss: 1.7893 - mae: 1.7893\n",
            "Epoch 70/100\n",
            "1/1 [==============================] - 0s 12ms/step - loss: 1.7598 - mae: 1.7598\n",
            "Epoch 71/100\n",
            "1/1 [==============================] - 0s 17ms/step - loss: 1.7295 - mae: 1.7295\n",
            "Epoch 72/100\n",
            "1/1 [==============================] - 0s 16ms/step - loss: 1.6983 - mae: 1.6983\n",
            "Epoch 73/100\n",
            "1/1 [==============================] - 0s 22ms/step - loss: 1.6664 - mae: 1.6664\n",
            "Epoch 74/100\n",
            "1/1 [==============================] - 0s 15ms/step - loss: 1.6335 - mae: 1.6335\n",
            "Epoch 75/100\n",
            "1/1 [==============================] - 0s 22ms/step - loss: 1.5997 - mae: 1.5997\n",
            "Epoch 76/100\n",
            "1/1 [==============================] - 0s 35ms/step - loss: 1.5650 - mae: 1.5650\n",
            "Epoch 77/100\n",
            "1/1 [==============================] - 0s 21ms/step - loss: 1.5292 - mae: 1.5292\n",
            "Epoch 78/100\n",
            "1/1 [==============================] - 0s 68ms/step - loss: 1.4923 - mae: 1.4923\n",
            "Epoch 79/100\n",
            "1/1 [==============================] - 0s 15ms/step - loss: 1.4543 - mae: 1.4543\n",
            "Epoch 80/100\n",
            "1/1 [==============================] - 0s 13ms/step - loss: 1.4152 - mae: 1.4152\n",
            "Epoch 81/100\n",
            "1/1 [==============================] - 0s 18ms/step - loss: 1.3748 - mae: 1.3748\n",
            "Epoch 82/100\n",
            "1/1 [==============================] - 0s 30ms/step - loss: 1.3331 - mae: 1.3331\n",
            "Epoch 83/100\n",
            "1/1 [==============================] - 0s 24ms/step - loss: 1.2900 - mae: 1.2900\n",
            "Epoch 84/100\n",
            "1/1 [==============================] - 0s 32ms/step - loss: 1.2456 - mae: 1.2456\n",
            "Epoch 85/100\n",
            "1/1 [==============================] - 0s 25ms/step - loss: 1.1997 - mae: 1.1997\n",
            "Epoch 86/100\n",
            "1/1 [==============================] - 0s 23ms/step - loss: 1.1522 - mae: 1.1522\n",
            "Epoch 87/100\n",
            "1/1 [==============================] - 0s 41ms/step - loss: 1.1032 - mae: 1.1032\n",
            "Epoch 88/100\n",
            "1/1 [==============================] - 0s 42ms/step - loss: 1.0528 - mae: 1.0528\n",
            "Epoch 89/100\n",
            "1/1 [==============================] - 0s 35ms/step - loss: 1.0036 - mae: 1.0036\n",
            "Epoch 90/100\n",
            "1/1 [==============================] - 0s 61ms/step - loss: 0.9527 - mae: 0.9527\n",
            "Epoch 91/100\n",
            "1/1 [==============================] - 0s 76ms/step - loss: 0.8998 - mae: 0.8998\n",
            "Epoch 92/100\n",
            "1/1 [==============================] - 0s 29ms/step - loss: 0.8448 - mae: 0.8448\n",
            "Epoch 93/100\n",
            "1/1 [==============================] - 0s 42ms/step - loss: 0.7877 - mae: 0.7877\n",
            "Epoch 94/100\n",
            "1/1 [==============================] - 0s 23ms/step - loss: 0.7283 - mae: 0.7283\n",
            "Epoch 95/100\n",
            "1/1 [==============================] - 0s 31ms/step - loss: 0.6666 - mae: 0.6666\n",
            "Epoch 96/100\n",
            "1/1 [==============================] - 0s 20ms/step - loss: 0.6026 - mae: 0.6026\n",
            "Epoch 97/100\n",
            "1/1 [==============================] - 0s 22ms/step - loss: 0.5361 - mae: 0.5361\n",
            "Epoch 98/100\n",
            "1/1 [==============================] - 0s 19ms/step - loss: 0.4671 - mae: 0.4671\n",
            "Epoch 99/100\n",
            "1/1 [==============================] - 0s 14ms/step - loss: 0.3955 - mae: 0.3955\n",
            "Epoch 100/100\n",
            "1/1 [==============================] - 0s 61ms/step - loss: 0.3212 - mae: 0.3212\n"
          ]
        },
        {
          "output_type": "execute_result",
          "data": {
            "text/plain": [
              "<keras.callbacks.History at 0x7fc7213e25b0>"
            ]
          },
          "metadata": {},
          "execution_count": 3
        }
      ]
    },
    {
      "cell_type": "code",
      "source": [
        "model.predict([8.0])"
      ],
      "metadata": {
        "colab": {
          "base_uri": "https://localhost:8080/"
        },
        "id": "TySv2-kpZbWA",
        "outputId": "735b3bbb-ed13-4a2f-f40b-32566de11565"
      },
      "execution_count": 4,
      "outputs": [
        {
          "output_type": "stream",
          "name": "stdout",
          "text": [
            "1/1 [==============================] - 0s 355ms/step\n"
          ]
        },
        {
          "output_type": "execute_result",
          "data": {
            "text/plain": [
              "array([[18.682537]], dtype=float32)"
            ]
          },
          "metadata": {},
          "execution_count": 4
        }
      ]
    },
    {
      "cell_type": "code",
      "source": [
        "X = tf.range(-200, 200, 4)\n",
        "y = X + 10"
      ],
      "metadata": {
        "id": "AlzHfgQibBbv"
      },
      "execution_count": 5,
      "outputs": []
    },
    {
      "cell_type": "code",
      "source": [
        "import matplotlib.pyplot as plt\n",
        "plt.scatter(X,y)"
      ],
      "metadata": {
        "colab": {
          "base_uri": "https://localhost:8080/",
          "height": 282
        },
        "id": "hrasDneVhcHo",
        "outputId": "15d80631-7fd4-40a5-e062-98c516ad24aa"
      },
      "execution_count": 6,
      "outputs": [
        {
          "output_type": "execute_result",
          "data": {
            "text/plain": [
              "<matplotlib.collections.PathCollection at 0x7fc721304520>"
            ]
          },
          "metadata": {},
          "execution_count": 6
        },
        {
          "output_type": "display_data",
          "data": {
            "text/plain": [
              "<Figure size 432x288 with 1 Axes>"
            ],
            "image/png": "[encoded data removed]"
          },
          "metadata": {
            "needs_background": "light"
          }
        }
      ]
    },
    {
      "cell_type": "code",
      "source": [
        "len(X)"
      ],
      "metadata": {
        "colab": {
          "base_uri": "https://localhost:8080/"
        },
        "id": "zsJcRoZLhqnU",
        "outputId": "4848840b-775b-464c-cd0b-44b394c7a2a6"
      },
      "execution_count": 7,
      "outputs": [
        {
          "output_type": "execute_result",
          "data": {
            "text/plain": [
              "100"
            ]
          },
          "metadata": {},
          "execution_count": 7
        }
      ]
    },
    {
      "cell_type": "code",
      "source": [
        "X_train=X[:80]\n",
        "X_test=X[80:]\n",
        "y_train=y[:80]\n",
        "y_test=y[80:]"
      ],
      "metadata": {
        "id": "V-Dp92rIidlZ"
      },
      "execution_count": 8,
      "outputs": []
    },
    {
      "cell_type": "code",
      "source": [
        "plt.scatter(X_train,y_train, label=\"Training data\")\n",
        "plt.scatter(X_test,y_test, label= \"Test Data\")\n",
        "plt.legend();"
      ],
      "metadata": {
        "colab": {
          "base_uri": "https://localhost:8080/",
          "height": 265
        },
        "id": "FRo4r2bSikpC",
        "outputId": "c62ad846-6175-4330-9bae-ed194288f2a4"
      },
      "execution_count": 9,
      "outputs": [
        {
          "output_type": "display_data",
          "data": {
            "text/plain": [
              "<Figure size 432x288 with 1 Axes>"
            ],
            "image/png": "[encoded data removed]"
          },
          "metadata": {
            "needs_background": "light"
          }
        }
      ]
    },
    {
      "cell_type": "code",
      "source": [
        "model = tf.keras.models.Sequential()\n",
        "model.add(tf.keras.layers.Dense(64,activation=None))\n",
        "model.add(tf.keras.layers.Dense(1,activation=None))\n",
        "model.compile(loss=\"mae\",optimizer=tf.keras.optimizers.Adam(learning_rate=0.01),metrics=[\"mae\"])\n"
      ],
      "metadata": {
        "id": "ObTgRQmijIC6"
      },
      "execution_count": 10,
      "outputs": []
    },
    {
      "cell_type": "code",
      "source": [
        "model.build(input_shape=tf.expand_dims(X_train,axis=-1).shape)\n",
        "model.summary()"
      ],
      "metadata": {
        "colab": {
          "base_uri": "https://localhost:8080/"
        },
        "id": "QL5wj60vozzj",
        "outputId": "2bc76386-f77a-4114-ea37-e2dd6d09b080"
      },
      "execution_count": 11,
      "outputs": [
        {
          "output_type": "stream",
          "name": "stdout",
          "text": [
            "Model: \"sequential_1\"\n",
            "_________________________________________________________________\n",
            " Layer (type)                Output Shape              Param #   \n",
            "=================================================================\n",
            " dense_2 (Dense)             (80, 64)                  128       \n",
            "                                                                 \n",
            " dense_3 (Dense)             (80, 1)                   65        \n",
            "                                                                 \n",
            "=================================================================\n",
            "Total params: 193\n",
            "Trainable params: 193\n",
            "Non-trainable params: 0\n",
            "_________________________________________________________________\n"
          ]
        }
      ]
    },
    {
      "cell_type": "code",
      "source": [
        "model.fit(x=tf.expand_dims(X_train, axis=-1),y=y_train, epochs=100)"
      ],
      "metadata": {
        "colab": {
          "base_uri": "https://localhost:8080/"
        },
        "id": "zeJY16dMosfI",
        "outputId": "64005b97-c277-4514-abb6-2268cc1ccee7"
      },
      "execution_count": 12,
      "outputs": [
        {
          "output_type": "stream",
          "name": "stdout",
          "text": [
            "Epoch 1/100\n",
            "3/3 [==============================] - 1s 14ms/step - loss: 62.0262 - mae: 62.0262\n",
            "Epoch 2/100\n",
            "3/3 [==============================] - 0s 10ms/step - loss: 16.0305 - mae: 16.0305\n",
            "Epoch 3/100\n",
            "3/3 [==============================] - 0s 9ms/step - loss: 27.9745 - mae: 27.9745\n",
            "Epoch 4/100\n",
            "3/3 [==============================] - 0s 21ms/step - loss: 23.9194 - mae: 23.9194\n",
            "Epoch 5/100\n",
            "3/3 [==============================] - 0s 7ms/step - loss: 10.6390 - mae: 10.6390\n",
            "Epoch 6/100\n",
            "3/3 [==============================] - 0s 15ms/step - loss: 17.1550 - mae: 17.1550\n",
            "Epoch 7/100\n",
            "3/3 [==============================] - 0s 9ms/step - loss: 12.9926 - mae: 12.9926\n",
            "Epoch 8/100\n",
            "3/3 [==============================] - 0s 6ms/step - loss: 10.7044 - mae: 10.7044\n",
            "Epoch 9/100\n",
            "3/3 [==============================] - 0s 12ms/step - loss: 12.2704 - mae: 12.2704\n",
            "Epoch 10/100\n",
            "3/3 [==============================] - 0s 9ms/step - loss: 9.5281 - mae: 9.5281\n",
            "Epoch 11/100\n",
            "3/3 [==============================] - 0s 10ms/step - loss: 8.4106 - mae: 8.4106\n",
            "Epoch 12/100\n",
            "3/3 [==============================] - 0s 6ms/step - loss: 7.8000 - mae: 7.8000\n",
            "Epoch 13/100\n",
            "3/3 [==============================] - 0s 6ms/step - loss: 8.1500 - mae: 8.1500\n",
            "Epoch 14/100\n",
            "3/3 [==============================] - 0s 11ms/step - loss: 7.3614 - mae: 7.3614\n",
            "Epoch 15/100\n",
            "3/3 [==============================] - 0s 13ms/step - loss: 7.0181 - mae: 7.0181\n",
            "Epoch 16/100\n",
            "3/3 [==============================] - 0s 13ms/step - loss: 5.8020 - mae: 5.8020\n",
            "Epoch 17/100\n",
            "3/3 [==============================] - 0s 13ms/step - loss: 7.8793 - mae: 7.8793\n",
            "Epoch 18/100\n",
            "3/3 [==============================] - 0s 19ms/step - loss: 6.3332 - mae: 6.3332\n",
            "Epoch 19/100\n",
            "3/3 [==============================] - 0s 18ms/step - loss: 6.6608 - mae: 6.6608\n",
            "Epoch 20/100\n",
            "3/3 [==============================] - 0s 37ms/step - loss: 5.2963 - mae: 5.2963\n",
            "Epoch 21/100\n",
            "3/3 [==============================] - 0s 23ms/step - loss: 5.0071 - mae: 5.0071\n",
            "Epoch 22/100\n",
            "3/3 [==============================] - 0s 5ms/step - loss: 4.6272 - mae: 4.6272\n",
            "Epoch 23/100\n",
            "3/3 [==============================] - 0s 13ms/step - loss: 4.7230 - mae: 4.7230\n",
            "Epoch 24/100\n",
            "3/3 [==============================] - 0s 15ms/step - loss: 4.1837 - mae: 4.1837\n",
            "Epoch 25/100\n",
            "3/3 [==============================] - 0s 9ms/step - loss: 3.6099 - mae: 3.6099\n",
            "Epoch 26/100\n",
            "3/3 [==============================] - 0s 14ms/step - loss: 3.6727 - mae: 3.6727\n",
            "Epoch 27/100\n",
            "3/3 [==============================] - 0s 10ms/step - loss: 4.5317 - mae: 4.5317\n",
            "Epoch 28/100\n",
            "3/3 [==============================] - 0s 13ms/step - loss: 3.1433 - mae: 3.1433\n",
            "Epoch 29/100\n",
            "3/3 [==============================] - 0s 14ms/step - loss: 2.8546 - mae: 2.8546\n",
            "Epoch 30/100\n",
            "3/3 [==============================] - 0s 15ms/step - loss: 3.3644 - mae: 3.3644\n",
            "Epoch 31/100\n",
            "3/3 [==============================] - 0s 21ms/step - loss: 3.1778 - mae: 3.1778\n",
            "Epoch 32/100\n",
            "3/3 [==============================] - 0s 8ms/step - loss: 2.7895 - mae: 2.7895\n",
            "Epoch 33/100\n",
            "3/3 [==============================] - 0s 7ms/step - loss: 2.4113 - mae: 2.4113\n",
            "Epoch 34/100\n",
            "3/3 [==============================] - 0s 13ms/step - loss: 1.6182 - mae: 1.6182\n",
            "Epoch 35/100\n",
            "3/3 [==============================] - 0s 9ms/step - loss: 3.2005 - mae: 3.2005\n",
            "Epoch 36/100\n",
            "3/3 [==============================] - 0s 9ms/step - loss: 1.0783 - mae: 1.0783\n",
            "Epoch 37/100\n",
            "3/3 [==============================] - 0s 12ms/step - loss: 3.1723 - mae: 3.1723\n",
            "Epoch 38/100\n",
            "3/3 [==============================] - 0s 15ms/step - loss: 1.8072 - mae: 1.8072\n",
            "Epoch 39/100\n",
            "3/3 [==============================] - 0s 20ms/step - loss: 2.4639 - mae: 2.4639\n",
            "Epoch 40/100\n",
            "3/3 [==============================] - 0s 15ms/step - loss: 1.9449 - mae: 1.9449\n",
            "Epoch 41/100\n",
            "3/3 [==============================] - 0s 17ms/step - loss: 2.3494 - mae: 2.3494\n",
            "Epoch 42/100\n",
            "3/3 [==============================] - 0s 19ms/step - loss: 1.7386 - mae: 1.7386\n",
            "Epoch 43/100\n",
            "3/3 [==============================] - 0s 12ms/step - loss: 2.5149 - mae: 2.5149\n",
            "Epoch 44/100\n",
            "3/3 [==============================] - 0s 23ms/step - loss: 1.4911 - mae: 1.4911\n",
            "Epoch 45/100\n",
            "3/3 [==============================] - 0s 48ms/step - loss: 2.4501 - mae: 2.4501\n",
            "Epoch 46/100\n",
            "3/3 [==============================] - 0s 51ms/step - loss: 1.6939 - mae: 1.6939\n",
            "Epoch 47/100\n",
            "3/3 [==============================] - 0s 46ms/step - loss: 2.3188 - mae: 2.3188\n",
            "Epoch 48/100\n",
            "3/3 [==============================] - 0s 30ms/step - loss: 2.3081 - mae: 2.3081\n",
            "Epoch 49/100\n",
            "3/3 [==============================] - 0s 51ms/step - loss: 1.0405 - mae: 1.0405\n",
            "Epoch 50/100\n",
            "3/3 [==============================] - 0s 9ms/step - loss: 2.8477 - mae: 2.8477\n",
            "Epoch 51/100\n",
            "3/3 [==============================] - 0s 8ms/step - loss: 1.3687 - mae: 1.3687\n",
            "Epoch 52/100\n",
            "3/3 [==============================] - 0s 6ms/step - loss: 1.7256 - mae: 1.7256\n",
            "Epoch 53/100\n",
            "3/3 [==============================] - 0s 18ms/step - loss: 2.0738 - mae: 2.0738\n",
            "Epoch 54/100\n",
            "3/3 [==============================] - 0s 11ms/step - loss: 1.8955 - mae: 1.8955\n",
            "Epoch 55/100\n",
            "3/3 [==============================] - 0s 11ms/step - loss: 1.1082 - mae: 1.1082\n",
            "Epoch 56/100\n",
            "3/3 [==============================] - 0s 11ms/step - loss: 3.6366 - mae: 3.6366\n",
            "Epoch 57/100\n",
            "3/3 [==============================] - 0s 14ms/step - loss: 2.8375 - mae: 2.8375\n",
            "Epoch 58/100\n",
            "3/3 [==============================] - 0s 12ms/step - loss: 4.5096 - mae: 4.5096\n",
            "Epoch 59/100\n",
            "3/3 [==============================] - 0s 8ms/step - loss: 4.7343 - mae: 4.7343\n",
            "Epoch 60/100\n",
            "3/3 [==============================] - 0s 13ms/step - loss: 3.3914 - mae: 3.3914\n",
            "Epoch 61/100\n",
            "3/3 [==============================] - 0s 16ms/step - loss: 4.8068 - mae: 4.8068\n",
            "Epoch 62/100\n",
            "3/3 [==============================] - 0s 10ms/step - loss: 2.9555 - mae: 2.9555\n",
            "Epoch 63/100\n",
            "3/3 [==============================] - 0s 13ms/step - loss: 4.1094 - mae: 4.1094\n",
            "Epoch 64/100\n",
            "3/3 [==============================] - 0s 7ms/step - loss: 4.6424 - mae: 4.6424\n",
            "Epoch 65/100\n",
            "3/3 [==============================] - 0s 6ms/step - loss: 3.1120 - mae: 3.1120\n",
            "Epoch 66/100\n",
            "3/3 [==============================] - 0s 21ms/step - loss: 3.3559 - mae: 3.3559\n",
            "Epoch 67/100\n",
            "3/3 [==============================] - 0s 14ms/step - loss: 1.3939 - mae: 1.3939\n",
            "Epoch 68/100\n",
            "3/3 [==============================] - 0s 33ms/step - loss: 0.9160 - mae: 0.9160\n",
            "Epoch 69/100\n",
            "3/3 [==============================] - 0s 9ms/step - loss: 2.8660 - mae: 2.8660\n",
            "Epoch 70/100\n",
            "3/3 [==============================] - 0s 11ms/step - loss: 2.3349 - mae: 2.3349\n",
            "Epoch 71/100\n",
            "3/3 [==============================] - 0s 13ms/step - loss: 3.5439 - mae: 3.5439\n",
            "Epoch 72/100\n",
            "3/3 [==============================] - 0s 8ms/step - loss: 5.7133 - mae: 5.7133\n",
            "Epoch 73/100\n",
            "3/3 [==============================] - 0s 12ms/step - loss: 3.8943 - mae: 3.8943\n",
            "Epoch 74/100\n",
            "3/3 [==============================] - 0s 16ms/step - loss: 4.4328 - mae: 4.4328\n",
            "Epoch 75/100\n",
            "3/3 [==============================] - 0s 4ms/step - loss: 2.3161 - mae: 2.3161\n",
            "Epoch 76/100\n",
            "3/3 [==============================] - 0s 11ms/step - loss: 3.8451 - mae: 3.8451\n",
            "Epoch 77/100\n",
            "3/3 [==============================] - 0s 15ms/step - loss: 3.3666 - mae: 3.3666\n",
            "Epoch 78/100\n",
            "3/3 [==============================] - 0s 19ms/step - loss: 1.8877 - mae: 1.8877\n",
            "Epoch 79/100\n",
            "3/3 [==============================] - 0s 6ms/step - loss: 5.9377 - mae: 5.9377\n",
            "Epoch 80/100\n",
            "3/3 [==============================] - 0s 6ms/step - loss: 2.3038 - mae: 2.3038\n",
            "Epoch 81/100\n",
            "3/3 [==============================] - 0s 8ms/step - loss: 3.5450 - mae: 3.5450\n",
            "Epoch 82/100\n",
            "3/3 [==============================] - 0s 12ms/step - loss: 3.0562 - mae: 3.0562\n",
            "Epoch 83/100\n",
            "3/3 [==============================] - 0s 7ms/step - loss: 2.0084 - mae: 2.0084\n",
            "Epoch 84/100\n",
            "3/3 [==============================] - 0s 6ms/step - loss: 2.4811 - mae: 2.4811\n",
            "Epoch 85/100\n",
            "3/3 [==============================] - 0s 10ms/step - loss: 1.1386 - mae: 1.1386\n",
            "Epoch 86/100\n",
            "3/3 [==============================] - 0s 16ms/step - loss: 0.7256 - mae: 0.7256\n",
            "Epoch 87/100\n",
            "3/3 [==============================] - 0s 9ms/step - loss: 0.8598 - mae: 0.8598\n",
            "Epoch 88/100\n",
            "3/3 [==============================] - 0s 11ms/step - loss: 0.7673 - mae: 0.7673\n",
            "Epoch 89/100\n",
            "3/3 [==============================] - 0s 14ms/step - loss: 0.4703 - mae: 0.4703\n",
            "Epoch 90/100\n",
            "3/3 [==============================] - 0s 21ms/step - loss: 0.7750 - mae: 0.7750\n",
            "Epoch 91/100\n",
            "3/3 [==============================] - 0s 11ms/step - loss: 0.7202 - mae: 0.7202\n",
            "Epoch 92/100\n",
            "3/3 [==============================] - 0s 11ms/step - loss: 0.5354 - mae: 0.5354\n",
            "Epoch 93/100\n",
            "3/3 [==============================] - 0s 10ms/step - loss: 1.5571 - mae: 1.5571\n",
            "Epoch 94/100\n",
            "3/3 [==============================] - 0s 10ms/step - loss: 1.9089 - mae: 1.9089\n",
            "Epoch 95/100\n",
            "3/3 [==============================] - 0s 15ms/step - loss: 0.8394 - mae: 0.8394\n",
            "Epoch 96/100\n",
            "3/3 [==============================] - 0s 9ms/step - loss: 0.9476 - mae: 0.9476\n",
            "Epoch 97/100\n",
            "3/3 [==============================] - 0s 8ms/step - loss: 0.8135 - mae: 0.8135\n",
            "Epoch 98/100\n",
            "3/3 [==============================] - 0s 14ms/step - loss: 0.4048 - mae: 0.4048\n",
            "Epoch 99/100\n",
            "3/3 [==============================] - 0s 14ms/step - loss: 0.8614 - mae: 0.8614\n",
            "Epoch 100/100\n",
            "3/3 [==============================] - 0s 9ms/step - loss: 0.6072 - mae: 0.6072\n"
          ]
        },
        {
          "output_type": "execute_result",
          "data": {
            "text/plain": [
              "<keras.callbacks.History at 0x7fc720e242e0>"
            ]
          },
          "metadata": {},
          "execution_count": 12
        }
      ]
    },
    {
      "cell_type": "code",
      "source": [
        "model.predict([100])"
      ],
      "metadata": {
        "colab": {
          "base_uri": "https://localhost:8080/"
        },
        "id": "ISB4rNOglLw9",
        "outputId": "aabc017c-61c4-4c09-b115-454700e3e10a"
      },
      "execution_count": 13,
      "outputs": [
        {
          "output_type": "stream",
          "name": "stdout",
          "text": [
            "1/1 [==============================] - 0s 225ms/step\n"
          ]
        },
        {
          "output_type": "execute_result",
          "data": {
            "text/plain": [
              "array([[109.25608]], dtype=float32)"
            ]
          },
          "metadata": {},
          "execution_count": 13
        }
      ]
    },
    {
      "cell_type": "code",
      "source": [
        "from tensorflow.keras.utils import plot_model\n",
        "plot_model(model=model)"
      ],
      "metadata": {
        "id": "bNaBR3omntvI",
        "outputId": "0154a2c0-86ae-43df-a027-bafaed217c5c",
        "colab": {
          "base_uri": "https://localhost:8080/",
          "height": 272
        }
      },
      "execution_count": 16,
      "outputs": [
        {
          "output_type": "execute_result",
          "data": {
            "image/png": "[encoded data removed]",
            "text/plain": [
              "<IPython.core.display.Image object>"
            ]
          },
          "metadata": {},
          "execution_count": 16
        }
      ]
    },
    {
      "cell_type": "code",
      "source": [],
      "metadata": {
        "id": "_WrwB_4Qr1tL"
      },
      "execution_count": null,
      "outputs": []
    }
  ]
}